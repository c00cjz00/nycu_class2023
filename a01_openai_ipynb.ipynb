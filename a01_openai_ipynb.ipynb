{
  "nbformat": 4,
  "nbformat_minor": 0,
  "metadata": {
    "colab": {
      "provenance": [],
      "gpuType": "T4"
    },
    "kernelspec": {
      "name": "python3",
      "display_name": "Python 3"
    },
    "language_info": {
      "name": "python"
    },
    "accelerator": "GPU"
  },
  "cells": [
    {
      "cell_type": "code",
      "source": [
        "# INSTALL PACKAGE\n",
        "!pip install -q markdown openai gdown xformers ctransformers tokenizers transformers accelerate langchain chainlit sentence_transformers chromadb unstructured PyPDF2 pypdf bitsandbytes faiss_cpu faiss_gpu huggingface_hub hf_transfer optimum -q\n",
        "!pip install auto-gptq --extra-index-url https://huggingface.github.io/autogptq-index/whl/cu118/  -q # Use cu117 if on CUDA 11.7"
      ],
      "metadata": {
        "id": "A6EMFg6fTWei"
      },
      "execution_count": null,
      "outputs": []
    },
    {
      "cell_type": "code",
      "source": [
        "# INPUT OPENAPI KEY\n",
        "import os\n",
        "OPENAI_API_KEY='sk-'\n",
        "os.environ[\"OPENAI_API_KEY\"] = OPENAI_API_KEY"
      ],
      "metadata": {
        "id": "uDulbdYDhoxu"
      },
      "execution_count": null,
      "outputs": []
    },
    {
      "cell_type": "code",
      "source": [
        "# LOAD LIBRARY\n",
        "from langchain.chains import LLMChain\n",
        "from langchain.llms import OpenAI\n",
        "from langchain.prompts import PromptTemplate"
      ],
      "metadata": {
        "id": "D_abN6__Tlvs"
      },
      "execution_count": null,
      "outputs": []
    },
    {
      "cell_type": "code",
      "source": [
        "# LOAD OPENAPI MODE\n",
        "llm = OpenAI()\n"
      ],
      "metadata": {
        "id": "sbeZcoSGhjya"
      },
      "execution_count": null,
      "outputs": []
    },
    {
      "cell_type": "code",
      "source": [
        "# QUESTION\n",
        "question = \"What NFL team won the Super Bowl in the year Justin Beiber was born?\"\n",
        "llm(question)"
      ],
      "metadata": {
        "id": "BbXteK9ej5lx"
      },
      "execution_count": null,
      "outputs": []
    },
    {
      "cell_type": "code",
      "source": [
        "# PROMPT\n",
        "template = \"\"\"Question: {question}\n",
        "Answer: Let's think step by step.\"\"\"\n",
        "prompt = PromptTemplate(template=template, input_variables=[\"question\"])"
      ],
      "metadata": {
        "id": "9V5_mZ9wg36b"
      },
      "execution_count": null,
      "outputs": []
    },
    {
      "cell_type": "code",
      "source": [
        "# PROMPT RESULT\n",
        "question = \"What NFL team won the Super Bowl in the year Justin Beiber was born?\"\n",
        "print(prompt.format(question=question))"
      ],
      "metadata": {
        "id": "jjiMMHufhHL1",
        "outputId": "af16610f-5c3e-460c-89d5-bb0267f279f0",
        "colab": {
          "base_uri": "https://localhost:8080/"
        }
      },
      "execution_count": null,
      "outputs": [
        {
          "output_type": "stream",
          "name": "stdout",
          "text": [
            "Question: What NFL team won the Super Bowl in the year Justin Beiber was born?\n",
            "Answer: Let's think step by step.\n"
          ]
        }
      ]
    },
    {
      "cell_type": "code",
      "source": [
        "# LangChain\n",
        "llm_chain = LLMChain(prompt=prompt, llm=llm)\n",
        "llm_chain.run(question)"
      ],
      "metadata": {
        "id": "urgFuLLbg4FK"
      },
      "execution_count": null,
      "outputs": []
    },
    {
      "cell_type": "code",
      "source": [],
      "metadata": {
        "id": "M-plCRC9hFKw"
      },
      "execution_count": null,
      "outputs": []
    }
  ]
}
