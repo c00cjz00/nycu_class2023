{
 "cells": [
  {
   "cell_type": "code",
   "execution_count": null,
   "id": "a9e59f5a-8c21-4baf-9947-a221276accf7",
   "metadata": {
    "tags": []
   },
   "outputs": [],
   "source": [
    "# INSTALL PACKAGE\n",
    "!pip install datasets -q"
   ]
  },
  {
   "cell_type": "code",
   "execution_count": null,
   "id": "ea9beae9-429c-462c-969c-83aee3276724",
   "metadata": {
    "tags": []
   },
   "outputs": [],
   "source": [
    "## 2. Loading dataset\n",
    "import json\n",
    "from datasets import load_dataset\n",
    "\n",
    "# 讀取數據集，take可以取得該數據集前n筆資料\n",
    "dataset = load_dataset(\"DataAgent/medical-qa-instruction-zhtw\", split=\"train\", streaming=True)\n",
    "\n",
    "# 提取所需欄位並建立新的字典列表\n",
    "limit=30000\n",
    "extracted_data = []\n",
    "for example in dataset:\n",
    "    extracted_example = {\n",
    "        \"instruction\": example[\"instruction\"],\n",
    "        \"input\": example[\"input\"],\n",
    "        \"output\": example[\"output\"]\n",
    "    }\n",
    "    extracted_data.append(extracted_example)\n",
    "    if len(extracted_data) == limit:\n",
    "        break\n",
    "\n",
    "# 指定 JSON 文件名稱\n",
    "json_filename = \"medical-qa-instruction-zhtw.json\"\n",
    "\n",
    "# 寫入 JSON 文件\n",
    "with open(json_filename, \"w\") as json_file:\n",
    "    json.dump(extracted_data, json_file, indent=4)\n",
    "\n",
    "print(f\"數據已提取並保存為 {json_filename}\")"
   ]
  },
  {
   "cell_type": "code",
   "execution_count": null,
   "id": "e6e6035d-a970-42ee-a1c0-c65df4688e5f",
   "metadata": {
    "tags": []
   },
   "outputs": [],
   "source": [
    "# Print dataser\n",
    "import pandas as pd\n",
    "df = pd. read_json ( 'medical-qa-instruction-zhtw.json' )\n",
    "df"
   ]
  },
  {
   "cell_type": "code",
   "execution_count": null,
   "id": "5af944f6-5311-4fce-bde3-0ca9eebc0002",
   "metadata": {},
   "outputs": [],
   "source": []
  }
 ],
 "metadata": {
  "kernelspec": {
   "display_name": "Python 3 (ipykernel)",
   "language": "python",
   "name": "python3"
  },
  "language_info": {
   "codemirror_mode": {
    "name": "ipython",
    "version": 3
   },
   "file_extension": ".py",
   "mimetype": "text/x-python",
   "name": "python",
   "nbconvert_exporter": "python",
   "pygments_lexer": "ipython3",
   "version": "3.8.16"
  }
 },
 "nbformat": 4,
 "nbformat_minor": 5
}
