{
 "cells": [
  {
   "cell_type": "code",
   "execution_count": null,
   "id": "1eafcff8-06bf-4867-89af-f2cd061b98ac",
   "metadata": {},
   "outputs": [],
   "source": [
    "#!tensorboard --path_prefix=/rstudio/172.16.124.151/16007 --logdir /work/g00cjz00/github/nycu_class2023/text-generation-webui/loras/d2 --port=16007 --host=0.0.0.0\n",
    "!tensorboard --logdir /work/g00cjz00/github/nycu_class2023/text-generation-webui/loras/d2/runs/Dec10_16-52-22_gpn3001 --port=16007 --host=0.0.0.0"
   ]
  },
  {
   "cell_type": "code",
   "execution_count": null,
   "id": "1934ddcc-daaf-4171-9f17-95f7e6370596",
   "metadata": {
    "tags": []
   },
   "outputs": [],
   "source": [
    "!ps -ef |grep tensorboard |grep logdir"
   ]
  },
  {
   "cell_type": "code",
   "execution_count": null,
   "id": "c5eecf08-3a47-4476-9e94-db19cc546eb8",
   "metadata": {
    "tags": []
   },
   "outputs": [],
   "source": [
    "!kill -9 50931                  "
   ]
  },
  {
   "cell_type": "code",
   "execution_count": null,
   "id": "5b329062-d43b-4de9-b07f-7199bda1371d",
   "metadata": {},
   "outputs": [],
   "source": []
  }
 ],
 "metadata": {
  "kernelspec": {
   "display_name": "Image_S_work-demo01_pytorch_2.1.0-cuda11.8-cudnn8-runtime_textgen",
   "language": "python",
   "name": "s_work-demo01_pytorch_2.1.0-cuda11.8-cudnn8-runtime_textgen"
  },
  "language_info": {
   "codemirror_mode": {
    "name": "ipython",
    "version": 3
   },
   "file_extension": ".py",
   "mimetype": "text/x-python",
   "name": "python",
   "nbconvert_exporter": "python",
   "pygments_lexer": "ipython3",
   "version": "3.10.13"
  }
 },
 "nbformat": 4,
 "nbformat_minor": 5
}
