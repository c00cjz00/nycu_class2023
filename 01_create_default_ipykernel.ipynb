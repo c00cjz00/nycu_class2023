{
 "cells": [
  {
   "cell_type": "markdown",
   "id": "fcfddfdf-4793-4f33-898e-77f9774ced9c",
   "metadata": {
    "tags": []
   },
   "source": [
    "## 01. 製作各版本ipykernel \n",
    "<span style=\"color:red\">Change to Default kernel:  Pyhon 3 (ipykernel)</span>.\n",
    "Python\tPyTorch\n",
    "3.10.8\t1.13.1\n",
    "3.9.12\t1.13.0\n",
    "3.7.13\t1.12.1\n",
    "3.7.13\t1.12.0\n",
    "3.8.12\t1.11.0\n",
    "3.7.11\t1.9.1\n",
    "3.8.8\t1.8.0\n",
    "3.8.3\t1.7.0"
   ]
  },
  {
   "cell_type": "code",
   "execution_count": 5,
   "id": "c72c8f37-939b-4137-a9ab-fa4486ca7a64",
   "metadata": {},
   "outputs": [
    {
     "name": "stderr",
     "output_type": "stream",
     "text": [
      "  WARNING: The scripts jupyter, jupyter-migrate and jupyter-troubleshoot are installed in '/home/g00cjz00/.local/bin' which is not on PATH.\n",
      "  Consider adding this directory to PATH or, if you prefer to suppress this warning, use --no-warn-script-location.\n",
      "  WARNING: The scripts jupyter-kernel, jupyter-kernelspec and jupyter-run are installed in '/home/g00cjz00/.local/bin' which is not on PATH.\n",
      "  Consider adding this directory to PATH or, if you prefer to suppress this warning, use --no-warn-script-location.\n",
      "  WARNING: The scripts jupyter, jupyter-migrate and jupyter-troubleshoot are installed in '/home/g00cjz00/.local/bin' which is not on PATH.\n",
      "  Consider adding this directory to PATH or, if you prefer to suppress this warning, use --no-warn-script-location.\n",
      "  WARNING: The scripts jupyter-kernel, jupyter-kernelspec and jupyter-run are installed in '/home/g00cjz00/.local/bin' which is not on PATH.\n",
      "  Consider adding this directory to PATH or, if you prefer to suppress this warning, use --no-warn-script-location.\n",
      "  WARNING: The scripts jupyter, jupyter-migrate and jupyter-troubleshoot are installed in '/home/g00cjz00/.local/bin' which is not on PATH.\n",
      "  Consider adding this directory to PATH or, if you prefer to suppress this warning, use --no-warn-script-location.\n",
      "  WARNING: The scripts jupyter-kernel, jupyter-kernelspec and jupyter-run are installed in '/home/g00cjz00/.local/bin' which is not on PATH.\n",
      "  Consider adding this directory to PATH or, if you prefer to suppress this warning, use --no-warn-script-location.\n"
     ]
    }
   ],
   "source": [
    "%%bash\n",
    "# ipykernel\n",
    "ml libs/singularity/3.10.2\n",
    "singularity exec /work/u00cjz00/nvidia/pytorch_2.1.0-cuda11.8-cudnn8-devel.sif pip install -q ipykernel #3.10.13\n",
    "singularity exec /work/u00cjz00/nvidia/pytorch_1.13.0-cuda11.6-cudnn8-devel.sif pip install -q ipykernel #3.9.12\n",
    "singularity exec /work/u00cjz00/nvidia/pytorch_1.11.0-cuda11.3-cudnn8-devel.sif pip install -q ipykernel # 3.8.12\n",
    "singularity exec /work/u00cjz00/nvidia/pytorch_1.12.1-cuda11.3-cudnn8-devel.sif pip install -q ipykernel # 3.7.13"
   ]
  },
  {
   "cell_type": "code",
   "execution_count": 7,
   "id": "5e242974-b47a-4fab-91bd-cff5aa8784ad",
   "metadata": {},
   "outputs": [
    {
     "name": "stdout",
     "output_type": "stream",
     "text": [
      "python3.10  python3.7  python3.8  python3.9\n"
     ]
    }
   ],
   "source": [
    "!ls  ~/.local/lib"
   ]
  },
  {
   "cell_type": "code",
   "execution_count": 8,
   "id": "fd77ddde-d329-4f7d-ac7a-4ba2e1388ea6",
   "metadata": {
    "tags": []
   },
   "outputs": [
    {
     "name": "stdout",
     "output_type": "stream",
     "text": [
      "33M\t/home/g00cjz00/.local/lib/python3.10\n",
      "34M\t/home/g00cjz00/.local/lib/python3.7\n",
      "35M\t/home/g00cjz00/.local/lib/python3.8\n",
      "35M\t/home/g00cjz00/.local/lib/python3.9\n"
     ]
    }
   ],
   "source": [
    "!du -sh  ~/.local/lib/*"
   ]
  },
  {
   "cell_type": "raw",
   "id": "d4390894-ae25-455f-a43d-ff0202afcb7c",
   "metadata": {},
   "source": [
    "ln -s pytorch_2.1.0-cuda11.8-cudnn8-devel.sif python_3.10.sif\n",
    "ln -s pytorch_1.13.0-cuda11.6-cudnn8-devel.sif python_3.9.sif\n",
    "ln -s pytorch_1.11.0-cuda11.3-cudnn8-devel.sif python_3.8.sif\n",
    "ln -s pytorch_1.12.1-cuda11.3-cudnn8-devel.sif python_3.7.sif"
   ]
  }
 ],
 "metadata": {
  "kernelspec": {
   "display_name": "Python 3 (ipykernel)",
   "language": "python",
   "name": "python3"
  },
  "language_info": {
   "codemirror_mode": {
    "name": "ipython",
    "version": 3
   },
   "file_extension": ".py",
   "mimetype": "text/x-python",
   "name": "python",
   "nbconvert_exporter": "python",
   "pygments_lexer": "ipython3",
   "version": "3.8.16"
  }
 },
 "nbformat": 4,
 "nbformat_minor": 5
}
