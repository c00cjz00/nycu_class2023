{
  "nbformat": 4,
  "nbformat_minor": 0,
  "metadata": {
    "colab": {
      "provenance": [],
      "gpuType": "T4"
    },
    "kernelspec": {
      "name": "python3",
      "display_name": "Python 3"
    },
    "language_info": {
      "name": "python"
    },
    "accelerator": "GPU"
  },
  "cells": [
    {
      "cell_type": "code",
      "source": [
        "## INSTALL PACKAGE\n",
        "!pip install -q markdown pinecone-client openai gdown xformers ctransformers tokenizers transformers accelerate langchain chainlit sentence_transformers chromadb unstructured PyPDF2 pypdf bitsandbytes faiss_cpu faiss_gpu huggingface_hub hf_transfer optimum -q\n",
        "!pip install auto-gptq --extra-index-url https://huggingface.github.io/autogptq-index/whl/cu118/  -q # Use cu117 if on CUDA 11.7"
      ],
      "metadata": {
        "id": "A6EMFg6fTWei"
      },
      "execution_count": null,
      "outputs": []
    },
    {
      "cell_type": "code",
      "execution_count": 26,
      "metadata": {
        "id": "8U9ApDM1S_KW"
      },
      "outputs": [],
      "source": [
        "# 01: Configure\n",
        "pdf_file='Medical_Chatbot.pdf'\n",
        "PINECONE_API_KEY='xxxxxxxxx'\n",
        "PINECONE_API_ENV='gcp-starter'\n",
        "index_name=\"cjz-medical\"\n",
        "Embeddings_ID=\"sentence-transformers/all-MiniLM-L6-v2\""
      ]
    },
    {
      "cell_type": "code",
      "source": [
        "### 02.1: LOAD LIBRARY\n",
        "from torch import cuda, bfloat16, float16\n",
        "from langchain.chains import LLMChain, SimpleSequentialChain, RetrievalQA\n",
        "from langchain.llms.huggingface_pipeline import HuggingFacePipeline\n",
        "from langchain.prompts import PromptTemplate\n",
        "from transformers import AutoModelForCausalLM, AutoTokenizer, BitsAndBytesConfig, GenerationConfig, pipeline, TextStreamer"
      ],
      "metadata": {
        "id": "KmNxwWAcz4QF"
      },
      "execution_count": 31,
      "outputs": []
    },
    {
      "cell_type": "code",
      "source": [
        "# 02.2: Load LIBRARY\n",
        "from langchain.embeddings import HuggingFaceEmbeddings\n",
        "from langchain.llms import HuggingFacePipeline\n",
        "from langchain.vectorstores import Pinecone\n",
        "from langchain.chains.question_answering import load_qa_chain\n",
        "from transformers import AutoModelForCausalLM, AutoTokenizer, pipeline\n",
        "import transformers\n",
        "import torch\n",
        "import pinecone"
      ],
      "metadata": {
        "id": "M5Yy3u4NtvTa"
      },
      "execution_count": 33,
      "outputs": []
    },
    {
      "cell_type": "code",
      "source": [
        "%%bash\n",
        "# 3. Download model\n",
        "mkdir -p Llama-7B-Chat-GPTQ\n",
        "HF_HUB_ENABLE_HF_TRANSFER=1 huggingface-cli download TheBloke/Llama-2-7B-Chat-GPTQ --local-dir Llama-7B-Chat-GPTQ --local-dir-use-symlinks False\n",
        ""
      ],
      "metadata": {
        "colab": {
          "base_uri": "https://localhost:8080/"
        },
        "id": "e6yk1vFj0Api",
        "outputId": "1fb7dde5-506d-4002-b2bc-1071430e35c5"
      },
      "execution_count": 34,
      "outputs": [
        {
          "output_type": "stream",
          "name": "stdout",
          "text": [
            "/content/Llama-7B-Chat-GPTQ\n"
          ]
        },
        {
          "output_type": "stream",
          "name": "stderr",
          "text": [
            "downloading https://huggingface.co/TheBloke/Llama-2-7B-Chat-GPTQ/resolve/d5ad9310836dd91b6ac6133e2e47f47394386cea/.gitattributes to /root/.cache/huggingface/hub/tmp7ylq8g4e\n",
            "\r.gitattributes:   0%|          | 0.00/1.52k [00:00<?, ?B/s]\r.gitattributes: 100%|██████████| 1.52k/1.52k [00:00<00:00, 6.74MB/s]\n",
            "downloading https://huggingface.co/TheBloke/Llama-2-7B-Chat-GPTQ/resolve/d5ad9310836dd91b6ac6133e2e47f47394386cea/LICENSE to /root/.cache/huggingface/hub/tmpjeom9r68\n",
            "\rLICENSE:   0%|          | 0.00/7.02k [00:00<?, ?B/s]\rLICENSE: 100%|██████████| 7.02k/7.02k [00:00<00:00, 24.7MB/s]\n",
            "downloading https://huggingface.co/TheBloke/Llama-2-7B-Chat-GPTQ/resolve/d5ad9310836dd91b6ac6133e2e47f47394386cea/Notice to /root/.cache/huggingface/hub/tmpv2onuv8p\n",
            "\rNotice:   0%|          | 0.00/112 [00:00<?, ?B/s]\rNotice: 100%|██████████| 112/112 [00:00<00:00, 485kB/s]\n",
            "downloading https://huggingface.co/TheBloke/Llama-2-7B-Chat-GPTQ/resolve/d5ad9310836dd91b6ac6133e2e47f47394386cea/README.md to /root/.cache/huggingface/hub/tmpxp8fnz0y\n",
            "\rREADME.md:   0%|          | 0.00/25.0k [00:00<?, ?B/s]\rREADME.md: 100%|██████████| 25.0k/25.0k [00:00<00:00, 67.3MB/s]\n",
            "downloading https://huggingface.co/TheBloke/Llama-2-7B-Chat-GPTQ/resolve/d5ad9310836dd91b6ac6133e2e47f47394386cea/USE_POLICY.md to /root/.cache/huggingface/hub/tmp7uce44z3\n",
            "\rUSE_POLICY.md:   0%|          | 0.00/4.77k [00:00<?, ?B/s]\rUSE_POLICY.md: 100%|██████████| 4.77k/4.77k [00:00<00:00, 1.96MB/s]\n",
            "downloading https://huggingface.co/TheBloke/Llama-2-7B-Chat-GPTQ/resolve/d5ad9310836dd91b6ac6133e2e47f47394386cea/config.json to /root/.cache/huggingface/hub/tmpo1cxqvv9\n",
            "\rconfig.json:   0%|          | 0.00/789 [00:00<?, ?B/s]\rconfig.json: 100%|██████████| 789/789 [00:00<00:00, 3.94MB/s]\n",
            "downloading https://huggingface.co/TheBloke/Llama-2-7B-Chat-GPTQ/resolve/d5ad9310836dd91b6ac6133e2e47f47394386cea/generation_config.json to /root/.cache/huggingface/hub/tmpigodbyyb\n",
            "\rgeneration_config.json:   0%|          | 0.00/137 [00:00<?, ?B/s]\rgeneration_config.json: 100%|██████████| 137/137 [00:00<00:00, 784kB/s]\n",
            "downloading https://huggingface.co/TheBloke/Llama-2-7B-Chat-GPTQ/resolve/d5ad9310836dd91b6ac6133e2e47f47394386cea/model.safetensors to /root/.cache/huggingface/hub/tmpwn_5nxgt\n",
            "\rmodel.safetensors:   0%|          | 0.00/3.90G [00:00<?, ?B/s]\rmodel.safetensors:   0%|          | 10.5M/3.90G [00:03<19:10, 3.38MB/s]\rmodel.safetensors:   1%|          | 21.0M/3.90G [00:04<11:43, 5.51MB/s]\rmodel.safetensors:   1%|▏         | 52.4M/3.90G [00:04<04:03, 15.8MB/s]\rmodel.safetensors:   2%|▏         | 73.4M/3.90G [00:05<02:58, 21.4MB/s]\rmodel.safetensors:   3%|▎         | 115M/3.90G [00:05<01:34, 40.0MB/s] \rmodel.safetensors:   3%|▎         | 126M/3.90G [00:05<01:37, 38.5MB/s]\rmodel.safetensors:   3%|▎         | 136M/3.90G [00:05<01:28, 42.3MB/s]\rmodel.safetensors:   4%|▍         | 147M/3.90G [00:05<01:17, 48.2MB/s]\rmodel.safetensors:   4%|▍         | 168M/3.90G [00:06<01:08, 54.8MB/s]\rmodel.safetensors:   5%|▌         | 199M/3.90G [00:06<00:43, 84.7MB/s]\rmodel.safetensors:   6%|▌         | 220M/3.90G [00:06<00:35, 103MB/s] \rmodel.safetensors:   7%|▋         | 262M/3.90G [00:06<00:23, 156MB/s]\rmodel.safetensors:   8%|▊         | 304M/3.90G [00:06<00:17, 206MB/s]\rmodel.safetensors:   9%|▊         | 336M/3.90G [00:06<00:17, 202MB/s]\rmodel.safetensors:  10%|▉         | 377M/3.90G [00:06<00:14, 243MB/s]\rmodel.safetensors:  11%|█         | 419M/3.90G [00:07<00:12, 277MB/s]\rmodel.safetensors:  13%|█▎        | 514M/3.90G [00:07<00:07, 432MB/s]\rmodel.safetensors:  15%|█▍        | 566M/3.90G [00:07<00:13, 255MB/s]\rmodel.safetensors:  16%|█▌        | 608M/3.90G [00:07<00:13, 240MB/s]\rmodel.safetensors:  17%|█▋        | 671M/3.90G [00:08<00:14, 229MB/s]\rmodel.safetensors:  18%|█▊        | 703M/3.90G [00:08<00:14, 225MB/s]\rmodel.safetensors:  19%|█▉        | 734M/3.90G [00:08<00:16, 195MB/s]\rmodel.safetensors:  20%|█▉        | 765M/3.90G [00:08<00:18, 171MB/s]\rmodel.safetensors:  21%|██▏       | 828M/3.90G [00:08<00:12, 237MB/s]\rmodel.safetensors:  22%|██▏       | 860M/3.90G [00:08<00:12, 239MB/s]\rmodel.safetensors:  23%|██▎       | 891M/3.90G [00:09<00:11, 251MB/s]\rmodel.safetensors:  24%|██▎       | 923M/3.90G [00:09<00:24, 122MB/s]\rmodel.safetensors:  24%|██▍       | 954M/3.90G [00:10<00:32, 89.6MB/s]\rmodel.safetensors:  26%|██▌       | 1.01G/3.90G [00:10<00:26, 108MB/s]\rmodel.safetensors:  27%|██▋       | 1.04G/3.90G [00:10<00:25, 111MB/s]\rmodel.safetensors:  27%|██▋       | 1.06G/3.90G [00:11<00:41, 67.8MB/s]\rmodel.safetensors:  28%|██▊       | 1.08G/3.90G [00:13<01:19, 35.6MB/s]\rmodel.safetensors:  29%|██▊       | 1.11G/3.90G [00:13<01:00, 46.0MB/s]\rmodel.safetensors:  29%|██▉       | 1.12G/3.90G [00:13<00:59, 47.0MB/s]\rmodel.safetensors:  29%|██▉       | 1.13G/3.90G [00:14<00:57, 47.7MB/s]\rmodel.safetensors:  30%|██▉       | 1.15G/3.90G [00:14<00:50, 54.0MB/s]\rmodel.safetensors:  30%|███       | 1.17G/3.90G [00:14<00:39, 68.9MB/s]\rmodel.safetensors:  31%|███▏      | 1.23G/3.90G [00:14<00:22, 119MB/s] \rmodel.safetensors:  32%|███▏      | 1.26G/3.90G [00:14<00:18, 146MB/s]\rmodel.safetensors:  33%|███▎      | 1.29G/3.90G [00:14<00:15, 171MB/s]\rmodel.safetensors:  34%|███▍      | 1.32G/3.90G [00:15<00:17, 150MB/s]\rmodel.safetensors:  36%|███▌      | 1.41G/3.90G [00:15<00:10, 247MB/s]\rmodel.safetensors:  37%|███▋      | 1.45G/3.90G [00:15<00:09, 263MB/s]\rmodel.safetensors:  38%|███▊      | 1.48G/3.90G [00:15<00:10, 221MB/s]\rmodel.safetensors:  39%|███▉      | 1.53G/3.90G [00:15<00:10, 226MB/s]\rmodel.safetensors:  40%|████      | 1.56G/3.90G [00:16<00:15, 152MB/s]\rmodel.safetensors:  41%|████      | 1.59G/3.90G [00:16<00:14, 160MB/s]\rmodel.safetensors:  41%|████▏     | 1.61G/3.90G [00:16<00:15, 145MB/s]\rmodel.safetensors:  42%|████▏     | 1.64G/3.90G [00:17<00:32, 70.3MB/s]\rmodel.safetensors:  43%|████▎     | 1.66G/3.90G [00:18<00:50, 44.6MB/s]\rmodel.safetensors:  43%|████▎     | 1.67G/3.90G [00:18<00:56, 39.5MB/s]\rmodel.safetensors:  44%|████▍     | 1.71G/3.90G [00:19<00:35, 61.8MB/s]\rmodel.safetensors:  44%|████▍     | 1.73G/3.90G [00:19<00:36, 58.6MB/s]\rmodel.safetensors:  45%|████▍     | 1.74G/3.90G [00:19<00:34, 62.1MB/s]\rmodel.safetensors:  45%|████▍     | 1.75G/3.90G [00:20<00:52, 40.9MB/s]\rmodel.safetensors:  46%|████▌     | 1.79G/3.90G [00:20<00:28, 73.8MB/s]\rmodel.safetensors:  48%|████▊     | 1.86G/3.90G [00:20<00:15, 134MB/s] \rmodel.safetensors:  49%|████▉     | 1.92G/3.90G [00:20<00:10, 193MB/s]\rmodel.safetensors:  50%|█████     | 1.96G/3.90G [00:20<00:10, 188MB/s]\rmodel.safetensors:  51%|█████     | 1.99G/3.90G [00:21<00:09, 202MB/s]\rmodel.safetensors:  52%|█████▏    | 2.03G/3.90G [00:21<00:07, 236MB/s]\rmodel.safetensors:  53%|█████▎    | 2.07G/3.90G [00:21<00:08, 220MB/s]\rmodel.safetensors:  54%|█████▍    | 2.10G/3.90G [00:25<01:04, 28.1MB/s]\rmodel.safetensors:  54%|█████▍    | 2.12G/3.90G [00:25<00:55, 32.3MB/s]\rmodel.safetensors:  55%|█████▍    | 2.14G/3.90G [00:25<00:47, 37.2MB/s]\rmodel.safetensors:  55%|█████▌    | 2.16G/3.90G [00:25<00:39, 44.5MB/s]\rmodel.safetensors:  56%|█████▌    | 2.18G/3.90G [00:26<00:33, 51.5MB/s]\rmodel.safetensors:  57%|█████▋    | 2.20G/3.90G [00:26<00:27, 62.7MB/s]\rmodel.safetensors:  57%|█████▋    | 2.22G/3.90G [00:26<00:25, 66.6MB/s]\rmodel.safetensors:  58%|█████▊    | 2.24G/3.90G [00:26<00:21, 78.1MB/s]\rmodel.safetensors:  58%|█████▊    | 2.26G/3.90G [00:26<00:20, 80.3MB/s]\rmodel.safetensors:  59%|█████▊    | 2.29G/3.90G [00:27<00:18, 87.2MB/s]\rmodel.safetensors:  59%|█████▉    | 2.32G/3.90G [00:27<00:16, 96.0MB/s]\rmodel.safetensors:  60%|██████    | 2.34G/3.90G [00:27<00:14, 104MB/s] \rmodel.safetensors:  61%|██████    | 2.38G/3.90G [00:27<00:09, 153MB/s]\rmodel.safetensors:  63%|██████▎   | 2.44G/3.90G [00:27<00:06, 229MB/s]\rmodel.safetensors:  64%|██████▍   | 2.51G/3.90G [00:27<00:04, 305MB/s]\rmodel.safetensors:  66%|██████▌   | 2.58G/3.90G [00:27<00:03, 351MB/s]\rmodel.safetensors:  67%|██████▋   | 2.62G/3.90G [00:28<00:03, 352MB/s]\rmodel.safetensors:  68%|██████▊   | 2.66G/3.90G [00:28<00:03, 348MB/s]\rmodel.safetensors:  69%|██████▉   | 2.71G/3.90G [00:28<00:03, 327MB/s]\rmodel.safetensors:  71%|███████   | 2.76G/3.90G [00:28<00:03, 356MB/s]\rmodel.safetensors:  72%|███████▏  | 2.80G/3.90G [00:28<00:03, 322MB/s]\rmodel.safetensors:  73%|███████▎  | 2.84G/3.90G [00:28<00:03, 332MB/s]\rmodel.safetensors:  74%|███████▍  | 2.88G/3.90G [00:28<00:02, 341MB/s]\rmodel.safetensors:  75%|███████▌  | 2.93G/3.90G [00:29<00:08, 114MB/s]\rmodel.safetensors:  77%|███████▋  | 2.99G/3.90G [00:30<00:05, 159MB/s]\rmodel.safetensors:  77%|███████▋  | 3.02G/3.90G [00:30<00:05, 172MB/s]\rmodel.safetensors:  78%|███████▊  | 3.05G/3.90G [00:30<00:04, 192MB/s]\rmodel.safetensors:  79%|███████▉  | 3.08G/3.90G [00:30<00:04, 194MB/s]\rmodel.safetensors:  80%|███████▉  | 3.11G/3.90G [00:30<00:04, 163MB/s]\rmodel.safetensors:  81%|████████▏ | 3.17G/3.90G [00:30<00:04, 177MB/s]\rmodel.safetensors:  82%|████████▏ | 3.20G/3.90G [00:31<00:05, 128MB/s]\rmodel.safetensors:  83%|████████▎ | 3.22G/3.90G [00:32<00:14, 47.9MB/s]\rmodel.safetensors:  83%|████████▎ | 3.24G/3.90G [00:33<00:16, 39.3MB/s]\rmodel.safetensors:  83%|████████▎ | 3.25G/3.90G [00:33<00:15, 42.8MB/s]\rmodel.safetensors:  84%|████████▎ | 3.26G/3.90G [00:35<00:30, 21.2MB/s]\rmodel.safetensors:  84%|████████▍ | 3.28G/3.90G [00:35<00:21, 29.2MB/s]\rmodel.safetensors:  85%|████████▌ | 3.32G/3.90G [00:36<00:12, 47.5MB/s]\rmodel.safetensors:  87%|████████▋ | 3.38G/3.90G [00:36<00:06, 80.2MB/s]\rmodel.safetensors:  88%|████████▊ | 3.45G/3.90G [00:36<00:03, 135MB/s] \rmodel.safetensors:  90%|████████▉ | 3.50G/3.90G [00:36<00:02, 170MB/s]\rmodel.safetensors:  91%|█████████ | 3.54G/3.90G [00:36<00:01, 197MB/s]\rmodel.safetensors:  98%|█████████▊| 3.83G/3.90G [00:36<00:00, 621MB/s]\rmodel.safetensors: 100%|█████████▉| 3.90G/3.90G [00:36<00:00, 106MB/s]\n",
            "downloading https://huggingface.co/TheBloke/Llama-2-7B-Chat-GPTQ/resolve/d5ad9310836dd91b6ac6133e2e47f47394386cea/quantize_config.json to /root/.cache/huggingface/hub/tmpfjva8ve1\n",
            "\rquantize_config.json:   0%|          | 0.00/188 [00:00<?, ?B/s]\rquantize_config.json: 100%|██████████| 188/188 [00:00<00:00, 975kB/s]\n",
            "downloading https://huggingface.co/TheBloke/Llama-2-7B-Chat-GPTQ/resolve/d5ad9310836dd91b6ac6133e2e47f47394386cea/special_tokens_map.json to /root/.cache/huggingface/hub/tmpy_8u33id\n",
            "\rspecial_tokens_map.json:   0%|          | 0.00/411 [00:00<?, ?B/s]\rspecial_tokens_map.json: 100%|██████████| 411/411 [00:00<00:00, 1.87MB/s]\n",
            "downloading https://huggingface.co/TheBloke/Llama-2-7B-Chat-GPTQ/resolve/d5ad9310836dd91b6ac6133e2e47f47394386cea/tokenizer.json to /root/.cache/huggingface/hub/tmpva_lzpuz\n",
            "\rtokenizer.json:   0%|          | 0.00/1.84M [00:00<?, ?B/s]\rtokenizer.json: 100%|██████████| 1.84M/1.84M [00:00<00:00, 8.25MB/s]\rtokenizer.json: 100%|██████████| 1.84M/1.84M [00:00<00:00, 8.15MB/s]\n",
            "downloading https://huggingface.co/TheBloke/Llama-2-7B-Chat-GPTQ/resolve/d5ad9310836dd91b6ac6133e2e47f47394386cea/tokenizer.model to /root/.cache/huggingface/hub/tmpdtmte6cl\n",
            "\rtokenizer.model:   0%|          | 0.00/500k [00:00<?, ?B/s]\rtokenizer.model: 100%|██████████| 500k/500k [00:00<00:00, 16.3MB/s]\n",
            "downloading https://huggingface.co/TheBloke/Llama-2-7B-Chat-GPTQ/resolve/d5ad9310836dd91b6ac6133e2e47f47394386cea/tokenizer_config.json to /root/.cache/huggingface/hub/tmpa00b46kv\n",
            "\rtokenizer_config.json:   0%|          | 0.00/727 [00:00<?, ?B/s]\rtokenizer_config.json: 100%|██████████| 727/727 [00:00<00:00, 3.97MB/s]\n"
          ]
        }
      ]
    },
    {
      "cell_type": "code",
      "source": [
        "# 04: Embeddings 模型 384維度\n",
        "embeddings=HuggingFaceEmbeddings(model_name=Embeddings_ID)"
      ],
      "metadata": {
        "id": "ximtQ0_NzIYx"
      },
      "execution_count": 35,
      "outputs": []
    },
    {
      "cell_type": "code",
      "source": [
        "# 05: 連線 pinecone 向量資料庫\n",
        "pinecone.init(api_key=PINECONE_API_KEY, environment=PINECONE_API_ENV)\n",
        "docsearch=Pinecone.from_existing_index(index_name, embeddings)"
      ],
      "metadata": {
        "id": "8-hnihKvzIgW"
      },
      "execution_count": 29,
      "outputs": []
    },
    {
      "cell_type": "code",
      "source": [
        "# 06: 搜尋 pinecone 向量資料庫, 列出前三名\n",
        "query = \"What are Allergies\"\n",
        "docs=docsearch.similarity_search(query, k=3)\n",
        "docs"
      ],
      "metadata": {
        "colab": {
          "base_uri": "https://localhost:8080/"
        },
        "id": "vpbcnVMdzIlF",
        "outputId": "ce36c65b-9054-42bf-c35e-afc5e14dcf23"
      },
      "execution_count": 30,
      "outputs": [
        {
          "output_type": "execute_result",
          "data": {
            "text/plain": [
              "[Document(page_content='allergy develops against the offending sub-stance (an allergen.)'),\n",
              " Document(page_content=\"GALE ENCYCLOPEDIA OF MEDICINE 2 117Allergies\\nAllergic rhinitis is commonly triggered by\\nexposure to household dust, animal fur,or pollen. The foreign substance thattriggers an allergic reaction is calledan allergen.\\nThe presence of an allergen causes the\\nbody's lymphocytes to begin producingIgE antibodies. The lymphocytes of an allergy sufferer produce an unusuallylarge amount of IgE.\\nIgE molecules attach to mast\\ncells, which contain histamine.HistaminePollen grains\\nLymphocyte\\nFIRST EXPOSURE\"),\n",
              " Document(page_content='allergens are the following:\\n• plant pollens\\n• animal fur and dander\\n• body parts from house mites (microscopic creatures\\nfound in all houses)\\n• house dust• mold spores• cigarette smoke• solvents• cleaners\\nCommon food allergens include the following:\\n• nuts, especially peanuts, walnuts, and brazil nuts\\n• fish, mollusks, and shellfish• eggs• wheat• milk• food additives and preservatives\\nThe following types of drugs commonly cause aller-\\ngic reactions:\\n• penicillin or other antibiotics')]"
            ]
          },
          "metadata": {},
          "execution_count": 30
        }
      ]
    },
    {
      "cell_type": "code",
      "source": [
        "# 07: LLM模型\n",
        "\n",
        "from transformers import AutoModelForCausalLM, AutoTokenizer, pipeline\n",
        "\n",
        "MODEL_ID = \"./Llama-7B-Chat-GPTQ\"\n",
        "model = AutoModelForCausalLM.from_pretrained(MODEL_ID, device_map=\"auto\")\n",
        "tokenizer = AutoTokenizer.from_pretrained(MODEL_ID, use_fast=True)\n",
        "\n",
        "pipe = pipeline(\n",
        "    \"text-generation\",\n",
        "    model=model,\n",
        "    tokenizer=tokenizer,\n",
        "    max_new_tokens=512,\n",
        "    do_sample=True,\n",
        "    temperature=0.7,\n",
        "    top_p=0.95,\n",
        "    top_k=40,\n",
        "    repetition_penalty=1.1\n",
        ")\n",
        "\n",
        "llm = HuggingFacePipeline(pipeline=pipe, model_kwargs={\"temperature\": 0})"
      ],
      "metadata": {
        "id": "eNoMSe5izIpR"
      },
      "execution_count": 36,
      "outputs": []
    },
    {
      "cell_type": "code",
      "source": [
        "## 08. SET QA Search module\n",
        "from langchain.chains import RetrievalQA\n",
        "from langchain.chains import RetrievalQAWithSourcesChain\n",
        "retriever = docsearch.as_retriever(search_kwargs={\"k\": 3})\n",
        "retrieval_qa_chain = RetrievalQA.from_chain_type(llm=llm,\n",
        "                                  chain_type=\"stuff\",\n",
        "                                  retriever=retriever,\n",
        "                                  return_source_documents=True)"
      ],
      "metadata": {
        "id": "AYv-kczKzItJ"
      },
      "execution_count": 37,
      "outputs": []
    },
    {
      "cell_type": "code",
      "source": [
        "## 09. DO QA Search\n",
        "query = \"What are Allergies\"\n",
        "llm_response = retrieval_qa_chain(query)\n",
        "print(llm_response['query'])\n",
        "print(llm_response['result'])\n",
        "print(llm_response['source_documents'])"
      ],
      "metadata": {
        "colab": {
          "base_uri": "https://localhost:8080/"
        },
        "id": "GfZ9iC4VzIxg",
        "outputId": "6c473158-95ff-46b4-e990-441e1590aa07"
      },
      "execution_count": 38,
      "outputs": [
        {
          "output_type": "stream",
          "name": "stderr",
          "text": [
            "/usr/local/lib/python3.10/dist-packages/transformers/generation/utils.py:1473: UserWarning: You have modified the pretrained model configuration to control generation. This is a deprecated strategy to control generation and will be removed soon, in a future version. Please use and modify the model generation configuration (see https://huggingface.co/docs/transformers/generation_strategies#default-text-generation-configuration )\n",
            "  warnings.warn(\n"
          ]
        },
        {
          "output_type": "stream",
          "name": "stdout",
          "text": [
            "What are Allergies\n",
            " An allergies are a common medical condition in which the immune system overreacts to harmless substances such as pollen, dust, or certain foods, causing unpleasant symptoms like sneezing, congestion, itching, hives, rashes, swelling, stomach cramps, diarrhea, vomiting, and more.\n",
            "[Document(page_content='allergy develops against the offending sub-stance (an allergen.)'), Document(page_content=\"GALE ENCYCLOPEDIA OF MEDICINE 2 117Allergies\\nAllergic rhinitis is commonly triggered by\\nexposure to household dust, animal fur,or pollen. The foreign substance thattriggers an allergic reaction is calledan allergen.\\nThe presence of an allergen causes the\\nbody's lymphocytes to begin producingIgE antibodies. The lymphocytes of an allergy sufferer produce an unusuallylarge amount of IgE.\\nIgE molecules attach to mast\\ncells, which contain histamine.HistaminePollen grains\\nLymphocyte\\nFIRST EXPOSURE\"), Document(page_content='allergens are the following:\\n• plant pollens\\n• animal fur and dander\\n• body parts from house mites (microscopic creatures\\nfound in all houses)\\n• house dust• mold spores• cigarette smoke• solvents• cleaners\\nCommon food allergens include the following:\\n• nuts, especially peanuts, walnuts, and brazil nuts\\n• fish, mollusks, and shellfish• eggs• wheat• milk• food additives and preservatives\\nThe following types of drugs commonly cause aller-\\ngic reactions:\\n• penicillin or other antibiotics')]\n"
          ]
        }
      ]
    },
    {
      "cell_type": "code",
      "source": [],
      "metadata": {
        "id": "C43C-GxWzI0u"
      },
      "execution_count": null,
      "outputs": []
    },
    {
      "cell_type": "code",
      "source": [],
      "metadata": {
        "id": "OwULJMESzI4W"
      },
      "execution_count": null,
      "outputs": []
    },
    {
      "cell_type": "code",
      "source": [],
      "metadata": {
        "id": "Wc33DoAbzI8U"
      },
      "execution_count": null,
      "outputs": []
    },
    {
      "cell_type": "code",
      "source": [],
      "metadata": {
        "id": "Owr4eK-azJAT"
      },
      "execution_count": null,
      "outputs": []
    },
    {
      "cell_type": "code",
      "source": [],
      "metadata": {
        "id": "N0l3f2U7zJDe"
      },
      "execution_count": null,
      "outputs": []
    },
    {
      "cell_type": "code",
      "source": [
        "# 02: Load LIBRARY\n",
        "from langchain.document_loaders import PyPDFLoader, DirectoryLoader\n",
        "from langchain.text_splitter import RecursiveCharacterTextSplitter\n",
        "from langchain.embeddings import HuggingFaceEmbeddings\n",
        "from langchain.vectorstores import Pinecone\n",
        "import pinecone"
      ],
      "metadata": {
        "id": "hv-tcVdLtUjM"
      },
      "execution_count": null,
      "outputs": []
    },
    {
      "cell_type": "code",
      "source": [
        "# 03: Locad PDF\n",
        "loader= PyPDFLoader(pdf_file)\n",
        "data=loader.load()\n",
        "data[0:10]  #PAGE"
      ],
      "metadata": {
        "id": "vSAic50itxgd"
      },
      "execution_count": null,
      "outputs": []
    },
    {
      "cell_type": "code",
      "source": [
        "# 04: Text splitter\n",
        "text_splitter=RecursiveCharacterTextSplitter(chunk_size=500, chunk_overlap=0)\n",
        "docs=text_splitter.split_documents(data)\n",
        "docs[1000:1010]  # CHUNK"
      ],
      "metadata": {
        "id": "wO9u_yK3txrs"
      },
      "execution_count": null,
      "outputs": []
    },
    {
      "cell_type": "code",
      "source": [
        "# 05: Embeddings 模型 384維度\n",
        "#embeddings=HuggingFaceEmbeddings(model_name='sentence-transformers/all-MiniLM-L6-v2')\n",
        "embeddings=HuggingFaceEmbeddings(model_name=Embeddings_ID)"
      ],
      "metadata": {
        "id": "hrxJlJcjtx3V"
      },
      "execution_count": null,
      "outputs": []
    },
    {
      "cell_type": "code",
      "source": [
        "# 06: 儲存至 pinecone 向量資料庫\n",
        "pinecone.init(api_key=PINECONE_API_KEY, environment=PINECONE_API_ENV)\n",
        "docsearch = Pinecone.from_texts([t.page_content for t in docs], embeddings, index_name=index_name)"
      ],
      "metadata": {
        "id": "T6N2kvD5u3W_"
      },
      "execution_count": null,
      "outputs": []
    },
    {
      "cell_type": "code",
      "source": [
        "# 07. 向量驗證\n",
        "# 0.00100201822,-0.0879787,-0.0121345911,0.000141251716,-0.0305802971,-0.0635476932,-0.00554865832,0.0155437924,0.0310709625,-0.0551753715,-0.0272236336,0.0335728712,-0.0554190911,0.0753775463,-0.0810973197,0.0584557615,-0.0399320163,-0.0538939722,-0.0225356463,-0.0228182543,0.0983394831,-0.0244991,-0.0298304707,0.0355674885,0.0172437858,-0.0290708039,0.00247312849,-0.00694054458,0.00934407953,-0.00675766775,0.0333429798,-0.0124766016,-0.0394415967,0.0457644,-0.0280858278,-0.0427881218,-0.0202028789,-0.0481561273,-0.04873503,-0.0477370508,0.0865190178,-0.150480494,-0.059747465,0.0476341136,-0.0901464596,0.0377526321,-0.0655688867,-0.0507967845,-0.0195009783,0.00771954097,-0.0589987785,-0.047139097,-0.0696333125,0.0627996847,0.0106975567,0.0732211769,0.0296002813,-0.0103422487,0.0250978488,-0.13682501,-0.127584696,0.0958755761,-0.00386591605,-0.0296135414,0.0230881833,0.0138041703,-0.00896615628,-0.0221488737,0.0524216853,-0.0445768125,-0.0183927678,-0.00776625,0.0319657773,-0.00278262165,-0.0487341136,-0.0595503077,-0.0783658326,-0.00741075212,-0.0194750428,-0.0124614071,0.0757125393,0.0245649051,0.0455409102,0.0816792771,-0.0166955534,-0.00727742072,-0.0399827473,0.0791423321,-0.0169981532,0.0228592027,0.0322342776,0.0220089331,-0.0803845599,-0.0361780152,0.0310536,-0.0731141567,0.0447544456,-0.0957708806,0.0532552712,-0.0466087721,-0.0489482,0.0236297511,0.00609217,-0.00254002307,-0.049574744,0.0289640799,0.0697844326,0.0402957909,-0.0338448025,0.0117008,0.0293432549,-0.0149991047,0.0869607,-0.0211856663,0.0100638177,0.123417199,0.0284997802,0.0490373857,-0.0340036042,-0.0103725092,0.0208557956,0.0284522176,0.104265921,-0.0161122531,0.0369163714,0.163942218,0.021986492,2.20114697e-33,0.00960067566,0.00104967237,-0.033008378,0.0417723432,-0.00391326286,0.0338333957,0.0128404535,0.0195410717,0.0746719539,-0.0779181048,-0.0450207144,-0.0242992,-0.0512985587,0.0279173553,-0.0642742,-0.0334506929,0.0669692159,0.0240977444,-0.00223330781,0.0035340609,0.0273019671,-0.0420355089,0.00951039512,0.0369071253,-0.0114566712,0.0268442761,-0.0680790916,0.093645364,-0.0670209825,-0.0118308933,0.0512493029,0.0372889452,-0.097853452,-0.0900082737,0.000475601584,0.0852474943,0.0702580512,0.0604681596,0.0181875732,0.0353608802,0.107898802,-0.020102283,0.127937973,-0.0304531362,0.027359169,-0.0426012538,-0.18722938,0.0118591515,-0.0162597187,0.076915212,-0.0327949077,-0.0150794284,-0.012617101,-0.0486724563,-0.00720037147,0.0281194896,-0.00927174557,-0.035107743,-0.0114448303,0.0261171851,0.0657774,0.0287979208,0.0377273075,-0.0133055691,0.00259780418,0.0280126166,0.00226550736,-0.0329276361,-0.0624877959,0.0838453323,-0.0382638201,-0.0379554629,0.0931681395,-0.0650517717,-0.00807021186,-0.0411833301,-0.0181588605,-0.0337772,0.0340428054,-0.0515089966,0.0788559,-0.0139547503,0.0716609,0.0195527915,0.0879508853,-0.0486497842,-0.0261932295,-0.0284969099,-0.0803705305,-0.00554771116,-0.0485168546,-0.118322894,-0.00429766951,-0.0592155978,0.0616180934,-2.57615189e-33,0.180445179,-0.0680550337,0.00672602095,0.0606214851,0.0976018086,0.0191470161,0.0243674498,0.10021738,0.0316511653,0.0886515453,0.00493130693,0.0803146511,-0.0365655608,-0.112197742,0.0133931348,0.0129120192,0.0258666985,-0.0653172359,0.056789469,-0.00234458642,-0.0555559434,0.015143333,-0.0284009166,0.00808381476,-0.0171454232,-0.0544834659,0.0282964967,-0.0324391425,0.0100439508,-0.0575333796,-0.0442775898,-0.00380633702,-0.00157593749,-0.039747674,-0.0605684,0.0551547967,-0.00835766178,-0.0311399177,0.017943494,0.0311389938,0.0334365331,-0.0431456603,-0.00318896235,-0.0283167362,-0.0234446414,0.021555528,-0.0174043961,-0.0651953295,-0.0309972782,0.0215819106,0.0116195921,0.0315252058,-0.0388435684,0.065880917,-0.0112401992,-0.00884662755,0.00454388,0.0496965908,-0.0522938706,0.0579095632,-0.0414180905,0.058839906,-0.0032678633,-0.0225830115,-0.0216255095,-0.0107437922,-0.0165638831,0.0784634501,0.0633835346,-0.0326286033,0.0205901638,-0.0887152,-0.0118591497,0.0399153717,0.0173136983,-0.11658635,-0.0837596804,0.022702422,0.0342835672,-0.0765177086,-0.0364477895,-0.0388797484,-0.00506030722,0.0562029704,0.00842982344,0.00860879291,0.0440128632,0.00267004245,0.0113677988,-0.0444276184,0.0167592466,-0.0560447574,-0.0211058501,-0.0105939489,0.0526761524,-3.28363043e-8,-0.0394373201,-0.06284751,0.00941727869,0.114079416,0.0497311503,-0.00309879868,0.0341236,0.123353027,-0.0260487609,-0.0583149418,0.0293672904,-0.00690054428,0.0786150098,0.0166235138,0.0173619166,0.0679017529,0.00652776659,-0.0362875536,-0.0287146103,-0.0469377078,-0.0203419682,0.0336826481,-0.019795049,-0.0130497487,0.00362700527,0.0222900473,0.00331193884,0.0669610426,-0.10506095,-0.0362477191,0.0678471178,-0.00246920274,-0.0629017,0.031316936,0.0763968751,0.0349495336,0.03701986,-0.0240127575,0.0431582294,0.0214637164,-0.0396364108,-0.0612524934,0.0200236645,-0.0307636093,0.0193338394,0.0346818455,-0.0563787,0.0292163305,0.049440641,0.0346936919,0.0547613651,0.0251639839,-0.0485375375,-0.0115103517,0.00470818812,-0.013961493,0.0454141349,0.0281176493,0.0755603,-0.0431908332,0.140430063,0.0270475149,0.00777886901,-0.0391872264\n",
        "text=\"\"\"lase levels. The kidneys quickly move extra amylasefrom the blood into the urine. Urine levels rise six to 10hours after blood levels and stay high longer. Urine isusually collected throughout a 2- or 24-hour time period.Results are usually available the same day.\n",
        "Preparation\n",
        "In most cases, no special preparation is necessary for\"\"\"\n",
        "text\n",
        "embedded_query = embeddings.embed_query(text)\n",
        "print(embedded_query)"
      ],
      "metadata": {
        "id": "fiCURyJNu3nA"
      },
      "execution_count": null,
      "outputs": []
    },
    {
      "cell_type": "code",
      "source": [
        "# 08. 向量搜尋\n",
        "# 0.00100201822,-0.0879787,-0.0121345911,0.000141251716,-0.0305802971,-0.0635476932,-0.00554865832,0.0155437924,0.0310709625,-0.0551753715,-0.0272236336,0.0335728712,-0.0554190911,0.0753775463,-0.0810973197,0.0584557615,-0.0399320163,-0.0538939722,-0.0225356463,-0.0228182543,0.0983394831,-0.0244991,-0.0298304707,0.0355674885,0.0172437858,-0.0290708039,0.00247312849,-0.00694054458,0.00934407953,-0.00675766775,0.0333429798,-0.0124766016,-0.0394415967,0.0457644,-0.0280858278,-0.0427881218,-0.0202028789,-0.0481561273,-0.04873503,-0.0477370508,0.0865190178,-0.150480494,-0.059747465,0.0476341136,-0.0901464596,0.0377526321,-0.0655688867,-0.0507967845,-0.0195009783,0.00771954097,-0.0589987785,-0.047139097,-0.0696333125,0.0627996847,0.0106975567,0.0732211769,0.0296002813,-0.0103422487,0.0250978488,-0.13682501,-0.127584696,0.0958755761,-0.00386591605,-0.0296135414,0.0230881833,0.0138041703,-0.00896615628,-0.0221488737,0.0524216853,-0.0445768125,-0.0183927678,-0.00776625,0.0319657773,-0.00278262165,-0.0487341136,-0.0595503077,-0.0783658326,-0.00741075212,-0.0194750428,-0.0124614071,0.0757125393,0.0245649051,0.0455409102,0.0816792771,-0.0166955534,-0.00727742072,-0.0399827473,0.0791423321,-0.0169981532,0.0228592027,0.0322342776,0.0220089331,-0.0803845599,-0.0361780152,0.0310536,-0.0731141567,0.0447544456,-0.0957708806,0.0532552712,-0.0466087721,-0.0489482,0.0236297511,0.00609217,-0.00254002307,-0.049574744,0.0289640799,0.0697844326,0.0402957909,-0.0338448025,0.0117008,0.0293432549,-0.0149991047,0.0869607,-0.0211856663,0.0100638177,0.123417199,0.0284997802,0.0490373857,-0.0340036042,-0.0103725092,0.0208557956,0.0284522176,0.104265921,-0.0161122531,0.0369163714,0.163942218,0.021986492,2.20114697e-33,0.00960067566,0.00104967237,-0.033008378,0.0417723432,-0.00391326286,0.0338333957,0.0128404535,0.0195410717,0.0746719539,-0.0779181048,-0.0450207144,-0.0242992,-0.0512985587,0.0279173553,-0.0642742,-0.0334506929,0.0669692159,0.0240977444,-0.00223330781,0.0035340609,0.0273019671,-0.0420355089,0.00951039512,0.0369071253,-0.0114566712,0.0268442761,-0.0680790916,0.093645364,-0.0670209825,-0.0118308933,0.0512493029,0.0372889452,-0.097853452,-0.0900082737,0.000475601584,0.0852474943,0.0702580512,0.0604681596,0.0181875732,0.0353608802,0.107898802,-0.020102283,0.127937973,-0.0304531362,0.027359169,-0.0426012538,-0.18722938,0.0118591515,-0.0162597187,0.076915212,-0.0327949077,-0.0150794284,-0.012617101,-0.0486724563,-0.00720037147,0.0281194896,-0.00927174557,-0.035107743,-0.0114448303,0.0261171851,0.0657774,0.0287979208,0.0377273075,-0.0133055691,0.00259780418,0.0280126166,0.00226550736,-0.0329276361,-0.0624877959,0.0838453323,-0.0382638201,-0.0379554629,0.0931681395,-0.0650517717,-0.00807021186,-0.0411833301,-0.0181588605,-0.0337772,0.0340428054,-0.0515089966,0.0788559,-0.0139547503,0.0716609,0.0195527915,0.0879508853,-0.0486497842,-0.0261932295,-0.0284969099,-0.0803705305,-0.00554771116,-0.0485168546,-0.118322894,-0.00429766951,-0.0592155978,0.0616180934,-2.57615189e-33,0.180445179,-0.0680550337,0.00672602095,0.0606214851,0.0976018086,0.0191470161,0.0243674498,0.10021738,0.0316511653,0.0886515453,0.00493130693,0.0803146511,-0.0365655608,-0.112197742,0.0133931348,0.0129120192,0.0258666985,-0.0653172359,0.056789469,-0.00234458642,-0.0555559434,0.015143333,-0.0284009166,0.00808381476,-0.0171454232,-0.0544834659,0.0282964967,-0.0324391425,0.0100439508,-0.0575333796,-0.0442775898,-0.00380633702,-0.00157593749,-0.039747674,-0.0605684,0.0551547967,-0.00835766178,-0.0311399177,0.017943494,0.0311389938,0.0334365331,-0.0431456603,-0.00318896235,-0.0283167362,-0.0234446414,0.021555528,-0.0174043961,-0.0651953295,-0.0309972782,0.0215819106,0.0116195921,0.0315252058,-0.0388435684,0.065880917,-0.0112401992,-0.00884662755,0.00454388,0.0496965908,-0.0522938706,0.0579095632,-0.0414180905,0.058839906,-0.0032678633,-0.0225830115,-0.0216255095,-0.0107437922,-0.0165638831,0.0784634501,0.0633835346,-0.0326286033,0.0205901638,-0.0887152,-0.0118591497,0.0399153717,0.0173136983,-0.11658635,-0.0837596804,0.022702422,0.0342835672,-0.0765177086,-0.0364477895,-0.0388797484,-0.00506030722,0.0562029704,0.00842982344,0.00860879291,0.0440128632,0.00267004245,0.0113677988,-0.0444276184,0.0167592466,-0.0560447574,-0.0211058501,-0.0105939489,0.0526761524,-3.28363043e-8,-0.0394373201,-0.06284751,0.00941727869,0.114079416,0.0497311503,-0.00309879868,0.0341236,0.123353027,-0.0260487609,-0.0583149418,0.0293672904,-0.00690054428,0.0786150098,0.0166235138,0.0173619166,0.0679017529,0.00652776659,-0.0362875536,-0.0287146103,-0.0469377078,-0.0203419682,0.0336826481,-0.019795049,-0.0130497487,0.00362700527,0.0222900473,0.00331193884,0.0669610426,-0.10506095,-0.0362477191,0.0678471178,-0.00246920274,-0.0629017,0.031316936,0.0763968751,0.0349495336,0.03701986,-0.0240127575,0.0431582294,0.0214637164,-0.0396364108,-0.0612524934,0.0200236645,-0.0307636093,0.0193338394,0.0346818455,-0.0563787,0.0292163305,0.049440641,0.0346936919,0.0547613651,0.0251639839,-0.0485375375,-0.0115103517,0.00470818812,-0.013961493,0.0454141349,0.0281176493,0.0755603,-0.0431908332,0.140430063,0.0270475149,0.00777886901,-0.0391872264\n",
        "text=f\"\"\"What are Allergies?\"\"\"\n",
        "text\n",
        "embedded_query = embeddings.embed_query(text)\n",
        "print(embedded_query)"
      ],
      "metadata": {
        "id": "Fs82RMPpu70P"
      },
      "execution_count": null,
      "outputs": []
    },
    {
      "cell_type": "code",
      "source": [],
      "metadata": {
        "id": "hJl6pQl0u8CK"
      },
      "execution_count": null,
      "outputs": []
    },
    {
      "cell_type": "code",
      "source": [],
      "metadata": {
        "id": "fKdRdCbhu8Nx"
      },
      "execution_count": null,
      "outputs": []
    }
  ]
}