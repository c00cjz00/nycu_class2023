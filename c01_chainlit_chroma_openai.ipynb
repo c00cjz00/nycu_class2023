{
 "cells": [
  {
   "cell_type": "code",
   "execution_count": null,
   "metadata": {
    "tags": []
   },
   "outputs": [],
   "source": [
    "# 初始環境設定\n",
    "import os\n",
    "from pathlib import Path\n",
    "HOME = str(Path.home())\n",
    "Add_Binarry_Path=HOME+'/.local/bin:/usr/ubuntu_bin'\n",
    "os.environ['PATH']=os.environ['PATH']+':'+Add_Binarry_Path"
   ]
  },
  {
   "cell_type": "code",
   "execution_count": null,
   "metadata": {
    "colab": {
     "base_uri": "https://localhost:8080/"
    },
    "id": "tas1NRCPl4QS",
    "outputId": "4ab41d7f-3600-4e8d-86a1-a4157e6d88b1"
   },
   "outputs": [],
   "source": [
    "## 安裝套件\n",
    "!pip install pypdf pyngrok  openai gdown chainlit langchain chromadb pdfplumber tiktoken  cohere -q"
   ]
  },
  {
   "cell_type": "code",
   "execution_count": null,
   "metadata": {
    "id": "EakrugWqDdbb"
   },
   "outputs": [],
   "source": [
    "# INPUT OPENAPI KEY\n",
    "import os\n",
    "OPENAI_API_KEY='sk-xxxxxxxxxxxxxxxxxxxxxx'\n",
    "os.environ[\"OPENAI_API_KEY\"] = OPENAI_API_KEY"
   ]
  },
  {
   "cell_type": "code",
   "execution_count": null,
   "metadata": {
    "id": "vUb2wvT9l4YA"
   },
   "outputs": [],
   "source": [
    "from typing import List\n",
    "\n",
    "from tempfile import NamedTemporaryFile\n",
    "\n",
    "import chainlit as cl\n",
    "from chainlit.types import AskFileResponse\n",
    "import chromadb\n",
    "from chromadb.config import Settings\n",
    "from langchain.chains import RetrievalQAWithSourcesChain\n",
    "from langchain.chat_models import ChatOpenAI\n",
    "from langchain.document_loaders import PDFPlumberLoader\n",
    "from langchain.embeddings.openai import OpenAIEmbeddings\n",
    "from langchain.schema import Document\n",
    "from langchain.schema.embeddings import Embeddings\n",
    "from langchain.text_splitter import RecursiveCharacterTextSplitter\n",
    "from langchain.vectorstores import Chroma\n",
    "from langchain.vectorstores.base import VectorStore\n",
    "from c01_prompts import EXAMPLE_PROMPT, PROMPT, WELCOME_MESSAGE"
   ]
  },
  {
   "cell_type": "code",
   "execution_count": null,
   "metadata": {
    "tags": []
   },
   "outputs": [],
   "source": [
    "# read pdf\n",
    "from langchain.document_loaders import PyPDFLoader\n",
    "from langchain.text_splitter import RecursiveCharacterTextSplitter\n",
    "\n",
    "pdf_file='./data/1Q23-EPR-with-Tables-FINAL.pdf'\n",
    "loader= PyPDFLoader(pdf_file)\n",
    "documents = loader.load()\n",
    "text_splitter = RecursiveCharacterTextSplitter(\n",
    "    chunk_size=2000, chunk_overlap=100\n",
    ")\n",
    "docs = text_splitter.split_documents(documents)\n",
    "\n",
    "for i, doc in enumerate(docs):\n",
    "    doc.metadata[\"source\"] = f\"source_{i}\""
   ]
  },
  {
   "cell_type": "code",
   "execution_count": null,
   "metadata": {
    "tags": []
   },
   "outputs": [],
   "source": [
    "# embedding\n",
    "from langchain.embeddings.openai import OpenAIEmbeddings\n",
    "\n",
    "embeddings = OpenAIEmbeddings(model=\"text-embedding-ada-002\")"
   ]
  },
  {
   "cell_type": "code",
   "execution_count": null,
   "metadata": {
    "tags": []
   },
   "outputs": [],
   "source": [
    "# DB\n",
    "from langchain.vectorstores import Chroma\n",
    "\n",
    "persist_directory=\"./chromadb/\"\n",
    "search_engine = Chroma.from_documents(\n",
    "    documents=docs, # text data that you want to embed and store\n",
    "    embedding=embeddings, # used to convert the documents into embeddings\n",
    "    #persist_directory=persist_directory, # this tells Chroma where to store its data\n",
    "    collection_name=\"mydb\" #  gives a name to the collection of embeddings, which will be helpful for retrieving specific groups of embeddings later.\n",
    ")"
   ]
  },
  {
   "cell_type": "code",
   "execution_count": null,
   "metadata": {
    "tags": []
   },
   "outputs": [],
   "source": [
    "# llm model\n",
    "from langchain.chains import RetrievalQAWithSourcesChain\n",
    "\n",
    "llm = ChatOpenAI(\n",
    "    model=\"gpt-3.5-turbo-16k-0613\", temperature=0, streaming=True\n",
    ")"
   ]
  },
  {
   "cell_type": "code",
   "execution_count": null,
   "metadata": {
    "tags": []
   },
   "outputs": [],
   "source": [
    "# RAG Chain\n",
    "from langchain.chains import RetrievalQAWithSourcesChain\n",
    "from c01_prompts import EXAMPLE_PROMPT, PROMPT, WELCOME_MESSAGE\n",
    "chain = RetrievalQAWithSourcesChain.from_chain_type(\n",
    "    llm=llm,\n",
    "    chain_type=\"stuff\",\n",
    "    retriever=search_engine.as_retriever(max_tokens_limit=512),\n",
    "    chain_type_kwargs={\"prompt\": PROMPT, \"document_prompt\": EXAMPLE_PROMPT},\n",
    "    return_source_documents=True\n",
    ")"
   ]
  },
  {
   "cell_type": "code",
   "execution_count": null,
   "metadata": {
    "tags": []
   },
   "outputs": [],
   "source": [
    "## DO QA Search\n",
    "query = \"What's the results for the reporter quarter? Please describe in the following order using bullet points - revenue, gross margin, opex, op margin, net income, and EPS. INclude both gaap and non-gaap numbers. Please also include quarter over quarter changes.\"\n",
    "llm_response = chain(query)\n",
    "print(llm_response['question'].strip())\n",
    "print('\\n\\n\\n')\n",
    "print(llm_response['answer'].strip())\n",
    "print('\\n\\n\\n')\n",
    "print(llm_response['sources'].strip())\n",
    "print('\\n\\n\\n')\n",
    "print(llm_response['source_documents'])"
   ]
  },
  {
   "cell_type": "markdown",
   "metadata": {},
   "source": [
    "## DEMO"
   ]
  },
  {
   "cell_type": "code",
   "execution_count": null,
   "metadata": {
    "tags": []
   },
   "outputs": [],
   "source": [
    "!chainlit run c01_app.py -w"
   ]
  },
  {
   "cell_type": "code",
   "execution_count": null,
   "metadata": {
    "colab": {
     "base_uri": "https://localhost:8080/"
    },
    "id": "fKdRdCbhu8Nx",
    "outputId": "11bc1844-1a97-4b1d-ca0e-664dcdafb6a4"
   },
   "outputs": [],
   "source": [
    "!ngrok config add-authtoken 1wbrOL2j8XoIkeqLu26tSNIOb6D_4cq3RGaNcGTt7v6G4nQX5"
   ]
  },
  {
   "cell_type": "code",
   "execution_count": null,
   "metadata": {
    "colab": {
     "base_uri": "https://localhost:8080/"
    },
    "id": "9sXq3FVajO77",
    "outputId": "325b3acb-88a6-403e-b725-be4d5d8fea16"
   },
   "outputs": [],
   "source": [
    "from pyngrok import ngrok\n",
    "ngrok_tunnel = ngrok.connect(8000)\n",
    "print('Public URL:', ngrok_tunnel.public_url)"
   ]
  },
  {
   "cell_type": "code",
   "execution_count": null,
   "metadata": {
    "id": "UjECiecOjPHv"
   },
   "outputs": [],
   "source": [
    "ngrok.kill()"
   ]
  },
  {
   "cell_type": "code",
   "execution_count": null,
   "metadata": {
    "colab": {
     "base_uri": "https://localhost:8080/"
    },
    "id": "GfFTVIWKkhgt",
    "outputId": "a9a7c98e-231f-4dd8-c2c0-dfe80f070dc4"
   },
   "outputs": [],
   "source": [
    "!ps -ef |grep chainlit | awk '{print $2}' | xargs kill -9\n",
    "!ps -ef |grep ngrok | awk '{print $2}' | xargs kill -9"
   ]
  },
  {
   "cell_type": "code",
   "execution_count": null,
   "metadata": {
    "id": "KFoxUSPGkjb1"
   },
   "outputs": [],
   "source": []
  }
 ],
 "metadata": {
  "accelerator": "GPU",
  "colab": {
   "gpuType": "T4",
   "provenance": []
  },
  "kernelspec": {
   "display_name": "Image_S_work-demo01_pytorch_2.1.0-cuda11.8-cudnn8-runtime_textgen",
   "language": "python",
   "name": "s_work-demo01_pytorch_2.1.0-cuda11.8-cudnn8-runtime_textgen"
  },
  "language_info": {
   "codemirror_mode": {
    "name": "ipython",
    "version": 3
   },
   "file_extension": ".py",
   "mimetype": "text/x-python",
   "name": "python",
   "nbconvert_exporter": "python",
   "pygments_lexer": "ipython3",
   "version": "3.10.13"
  }
 },
 "nbformat": 4,
 "nbformat_minor": 4
}
