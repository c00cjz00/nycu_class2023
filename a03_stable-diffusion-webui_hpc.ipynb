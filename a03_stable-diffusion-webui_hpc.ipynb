{
 "cells": [
  {
   "cell_type": "markdown",
   "metadata": {
    "id": "e0PlUF-R2rmx"
   },
   "source": [
    "## 實作案例: 請先切換kernel 於您新安裝的 kernel環境\n",
    "## <span style=\"color:red\">Change to kernel:   Image_XXXXXXXXXXl</span>.\n",
    "\n",
    "https://python.langchain.com.cn/docs/get_started/quickstart"
   ]
  },
  {
   "cell_type": "code",
   "execution_count": 1,
   "metadata": {
    "tags": []
   },
   "outputs": [
    {
     "data": {
      "text/plain": [
       "'/work/g00cjz00/github/self-rag/nycu_class2023/nycu_class2023'"
      ]
     },
     "execution_count": 1,
     "metadata": {},
     "output_type": "execute_result"
    }
   ],
   "source": [
    "# 初始環境設定\n",
    "import os\n",
    "from pathlib import Path\n",
    "HOME = str(Path.home())\n",
    "Add_Binarry_Path=HOME+'/.local/bin:/usr/ubuntu_bin'\n",
    "os.environ['PATH']=os.environ['PATH']+':'+Add_Binarry_Path\n",
    "current_foldr=!pwd\n",
    "current_foldr=current_foldr[0]\n",
    "current_foldr"
   ]
  },
  {
   "cell_type": "code",
   "execution_count": null,
   "metadata": {
    "tags": []
   },
   "outputs": [
    {
     "name": "stdout",
     "output_type": "stream",
     "text": [
      "https://node01.biobank.org.tw/rstudio/172.16.124.151/53704/\n"
     ]
    },
    {
     "name": "stderr",
     "output_type": "stream",
     "text": [
      "kill: (110689): No such process\n"
     ]
    },
    {
     "name": "stdout",
     "output_type": "stream",
     "text": [
      "Requirement already satisfied: httpx==0.24.1 in /home/g00cjz00/.local/lib/python3.10/site-packages (0.24.1)\n",
      "Requirement already satisfied: httpcore<0.18.0,>=0.15.0 in /home/g00cjz00/.local/lib/python3.10/site-packages (from httpx==0.24.1) (0.15.0)\n",
      "Requirement already satisfied: idna in /home/g00cjz00/.local/lib/python3.10/site-packages (from httpx==0.24.1) (3.6)\n",
      "Requirement already satisfied: sniffio in /home/g00cjz00/.local/lib/python3.10/site-packages (from httpx==0.24.1) (1.3.0)\n",
      "Requirement already satisfied: certifi in /home/g00cjz00/.local/lib/python3.10/site-packages (from httpx==0.24.1) (2023.11.17)\n",
      "Requirement already satisfied: anyio==3.* in /home/g00cjz00/.local/lib/python3.10/site-packages (from httpcore<0.18.0,>=0.15.0->httpx==0.24.1) (3.7.1)\n",
      "Requirement already satisfied: h11<0.13,>=0.11 in /home/g00cjz00/.local/lib/python3.10/site-packages (from httpcore<0.18.0,>=0.15.0->httpx==0.24.1) (0.12.0)\n",
      "Requirement already satisfied: exceptiongroup in /home/g00cjz00/.local/lib/python3.10/site-packages (from anyio==3.*->httpcore<0.18.0,>=0.15.0->httpx==0.24.1) (1.2.0)\n",
      "Python 3.10.12 (main, Jun 11 2023, 05:26:28) [GCC 11.4.0]\n",
      "Version: v1.6.1\n",
      "Commit hash: 4afaaf8a020c1df457bcf7250cb1c7f609699fa7\n",
      "Launching Web UI with arguments: --listen --subpath=/rstudio/172.16.124.151/53704 --port 53704 --server-name gpn3001 --gradio-auth nchc:nchcorgtw\n",
      "no module 'xformers'. Processing without...\n",
      "no module 'xformers'. Processing without...\n",
      "No module 'xformers'. Proceeding without it.\n",
      "Loading weights [6ce0161689] from /home/g00cjz00/LLMs/stable-diffusion-webui/models/Stable-diffusion/v1-5-pruned-emaonly.safetensors\n",
      "Running on local URL:  http://gpn3001:53704\n",
      "\n",
      "To create a public link, set `share=True` in `launch()`.\n",
      "Startup time: 12.3s (prepare environment: 2.0s, import torch: 3.5s, import gradio: 2.1s, setup paths: 1.3s, initialize shared: 0.5s, other imports: 1.3s, load scripts: 0.8s, create ui: 0.5s, gradio launch: 0.3s).\n",
      "Creating model from config: /home/g00cjz00/LLMs/stable-diffusion-webui/configs/v1-inference.yaml\n",
      "Applying attention optimization: Doggettx... done.\n",
      "Model loaded in 7.9s (load weights from disk: 1.0s, create model: 0.6s, apply weights to model: 5.7s, calculate empty prompt: 0.5s).\n",
      "\n",
      "Total progress:   0%|          | 0/20 [00:00<?, ?it/s]\u001b[A\n",
      "Total progress:  10%|█         | 2/20 [00:00<00:01, 15.86it/s]\u001b[A\n",
      "Total progress:  20%|██        | 4/20 [00:00<00:01, 11.61it/s]\u001b[A\n",
      "Total progress:  30%|███       | 6/20 [00:00<00:01,  7.40it/s]\u001b[A\n",
      "Total progress:  35%|███▌      | 7/20 [00:00<00:01,  7.20it/s]\u001b[A\n",
      "Total progress:  40%|████      | 8/20 [00:01<00:01,  6.57it/s]\u001b[A\n",
      "Total progress:  50%|█████     | 10/20 [00:01<00:01,  6.79it/s]\u001b[A\n",
      "Total progress:  55%|█████▌    | 11/20 [00:01<00:01,  7.12it/s]\u001b[A\n",
      "Total progress:  65%|██████▌   | 13/20 [00:01<00:01,  6.74it/s]\u001b[A\n",
      "Total progress:  75%|███████▌  | 15/20 [00:01<00:00,  7.68it/s]\u001b[A\n",
      "Total progress:  85%|████████▌ | 17/20 [00:02<00:00,  8.45it/s]\u001b[A\n",
      "Total progress:  95%|█████████▌| 19/20 [00:02<00:00,  9.06it/s]\u001b[A\n"
     ]
    },
    {
     "name": "stderr",
     "output_type": "stream",
     "text": [
      "100%|██████████| 20/20 [00:02<00:00,  7.35it/s]\n"
     ]
    },
    {
     "name": "stdout",
     "output_type": "stream",
     "text": [
      "Total progress: 100%|██████████| 20/20 [00:02<00:00,  9.11it/s]\u001b[A\n",
      "Total progress: 100%|██████████| 20/20 [00:02<00:00,  7.32it/s]\u001b[A\n",
      "\n",
      "Total progress:   0%|          | 0/20 [00:00<?, ?it/s]\u001b[A\n",
      "Total progress:  10%|█         | 2/20 [00:00<00:01,  9.59it/s]\u001b[A\n",
      "Total progress:  15%|█▌        | 3/20 [00:00<00:02,  7.47it/s]\u001b[A\n",
      "Total progress:  20%|██        | 4/20 [00:00<00:02,  6.70it/s]\u001b[A\n",
      "Total progress:  25%|██▌       | 5/20 [00:00<00:02,  6.45it/s]\u001b[A\n",
      "Total progress:  30%|███       | 6/20 [00:00<00:02,  6.91it/s]\u001b[A\n",
      "Total progress:  35%|███▌      | 7/20 [00:01<00:02,  5.56it/s]\u001b[A\n",
      "Total progress:  40%|████      | 8/20 [00:01<00:02,  5.52it/s]\u001b[A\n",
      "Total progress:  45%|████▌     | 9/20 [00:01<00:01,  5.92it/s]\u001b[A\n",
      "Total progress:  50%|█████     | 10/20 [00:01<00:01,  5.15it/s]\u001b[A\n",
      "Total progress:  55%|█████▌    | 11/20 [00:01<00:01,  4.70it/s]\u001b[A\n",
      "Total progress:  60%|██████    | 12/20 [00:02<00:01,  4.78it/s]\u001b[A\n",
      "Total progress:  65%|██████▌   | 13/20 [00:02<00:01,  4.30it/s]\u001b[A\n",
      "Total progress:  70%|███████   | 14/20 [00:02<00:01,  5.02it/s]\u001b[A\n",
      "Total progress:  75%|███████▌  | 15/20 [00:02<00:00,  5.31it/s]\u001b[A\n",
      "Total progress:  80%|████████  | 16/20 [00:02<00:00,  5.73it/s]\u001b[A\n",
      "Total progress:  85%|████████▌ | 17/20 [00:03<00:00,  5.71it/s]\u001b[A\n",
      "Total progress:  90%|█████████ | 18/20 [00:03<00:00,  5.72it/s]\u001b[A\n",
      "Total progress:  95%|█████████▌| 19/20 [00:03<00:00,  5.82it/s]\u001b[A\n"
     ]
    },
    {
     "name": "stderr",
     "output_type": "stream",
     "text": [
      "100%|██████████| 20/20 [00:03<00:00,  5.29it/s]\n"
     ]
    },
    {
     "name": "stdout",
     "output_type": "stream",
     "text": [
      "Total progress: 100%|██████████| 20/20 [00:03<00:00,  5.52it/s]\u001b[A\n",
      "Total progress: 100%|██████████| 20/20 [00:03<00:00,  5.26it/s]\u001b[A\n",
      "\n",
      "Total progress:   0%|          | 0/20 [00:00<?, ?it/s]\u001b[A\n",
      "Total progress:  10%|█         | 2/20 [00:00<00:02,  7.80it/s]\u001b[A\n",
      "Total progress:  15%|█▌        | 3/20 [00:00<00:02,  6.23it/s]\u001b[A\n",
      "Total progress:  20%|██        | 4/20 [00:00<00:02,  5.60it/s]\u001b[A\n",
      "Total progress:  25%|██▌       | 5/20 [00:00<00:02,  5.48it/s]\u001b[A\n",
      "Total progress:  30%|███       | 6/20 [00:01<00:02,  5.47it/s]\u001b[A\n",
      "Total progress:  35%|███▌      | 7/20 [00:01<00:02,  6.10it/s]\u001b[A\n",
      "Total progress:  40%|████      | 8/20 [00:01<00:01,  6.02it/s]\u001b[A\n",
      "Total progress:  45%|████▌     | 9/20 [00:01<00:01,  6.27it/s]\u001b[A\n",
      "Total progress:  50%|█████     | 10/20 [00:01<00:01,  6.78it/s]\u001b[A\n",
      "Total progress:  55%|█████▌    | 11/20 [00:01<00:01,  6.91it/s]\u001b[A\n",
      "Total progress:  60%|██████    | 12/20 [00:02<00:01,  5.17it/s]\u001b[A\n",
      "Total progress:  65%|██████▌   | 13/20 [00:02<00:01,  4.73it/s]\u001b[A\n",
      "Total progress:  70%|███████   | 14/20 [00:02<00:01,  4.69it/s]\u001b[A\n",
      "Total progress:  75%|███████▌  | 15/20 [00:02<00:01,  4.85it/s]\u001b[A\n",
      "Total progress:  80%|████████  | 16/20 [00:02<00:00,  5.20it/s]\u001b[A\n",
      "Total progress:  85%|████████▌ | 17/20 [00:03<00:00,  5.41it/s]\u001b[A\n",
      "Total progress:  90%|█████████ | 18/20 [00:03<00:00,  5.41it/s]\u001b[A\n",
      "Total progress:  95%|█████████▌| 19/20 [00:03<00:00,  5.44it/s]\u001b[A\n"
     ]
    },
    {
     "name": "stderr",
     "output_type": "stream",
     "text": [
      "100%|██████████| 20/20 [00:03<00:00,  5.11it/s]\n"
     ]
    },
    {
     "name": "stdout",
     "output_type": "stream",
     "text": [
      "Total progress: 100%|██████████| 20/20 [00:03<00:00,  4.99it/s]\u001b[A\n",
      "Total progress: 100%|██████████| 20/20 [00:03<00:00,  5.16it/s]\u001b[A\n",
      "\n",
      "Total progress:   0%|          | 0/20 [00:00<?, ?it/s]\u001b[A\n",
      "Total progress:  10%|█         | 2/20 [00:00<00:01,  9.62it/s]\u001b[A\n",
      "Total progress:  15%|█▌        | 3/20 [00:00<00:02,  7.91it/s]\u001b[A\n",
      "Total progress:  20%|██        | 4/20 [00:00<00:01,  8.10it/s]\u001b[A\n",
      "Total progress:  25%|██▌       | 5/20 [00:00<00:01,  8.01it/s]\u001b[A\n",
      "Total progress:  30%|███       | 6/20 [00:00<00:01,  7.14it/s]\u001b[A\n",
      "Total progress:  35%|███▌      | 7/20 [00:00<00:01,  6.67it/s]\u001b[A\n",
      "Total progress:  40%|████      | 8/20 [00:01<00:01,  6.82it/s]\u001b[A\n",
      "Total progress:  45%|████▌     | 9/20 [00:01<00:01,  5.66it/s]\u001b[A\n",
      "Total progress:  50%|█████     | 10/20 [00:01<00:01,  5.63it/s]\u001b[A\n",
      "Total progress:  55%|█████▌    | 11/20 [00:01<00:01,  4.65it/s]\u001b[A\n",
      "Total progress:  60%|██████    | 12/20 [00:01<00:01,  4.94it/s]\u001b[A\n",
      "Total progress:  65%|██████▌   | 13/20 [00:02<00:01,  4.64it/s]\u001b[A\n",
      "Total progress:  75%|███████▌  | 15/20 [00:02<00:01,  4.91it/s]\u001b[A\n",
      "Total progress:  80%|████████  | 16/20 [00:02<00:00,  5.34it/s]\u001b[A\n",
      "Total progress:  85%|████████▌ | 17/20 [00:02<00:00,  5.80it/s]\u001b[A\n",
      "Total progress:  90%|█████████ | 18/20 [00:03<00:00,  5.25it/s]\u001b[A\n",
      "Total progress:  95%|█████████▌| 19/20 [00:03<00:00,  5.81it/s]\u001b[A\n"
     ]
    },
    {
     "name": "stderr",
     "output_type": "stream",
     "text": [
      "100%|██████████| 20/20 [00:03<00:00,  5.57it/s]\n"
     ]
    },
    {
     "name": "stdout",
     "output_type": "stream",
     "text": [
      "Total progress: 100%|██████████| 20/20 [00:03<00:00,  6.49it/s]\u001b[A\n",
      "Total progress: 100%|██████████| 20/20 [00:03<00:00,  5.59it/s]\u001b[A\n",
      "\n",
      "Total progress:   0%|          | 0/20 [00:00<?, ?it/s]\u001b[A\n",
      "Total progress:  10%|█         | 2/20 [00:00<00:02,  7.95it/s]\u001b[A\n",
      "Total progress:  15%|█▌        | 3/20 [00:00<00:02,  7.71it/s]\u001b[A\n",
      "Total progress:  20%|██        | 4/20 [00:00<00:02,  6.72it/s]\u001b[A\n",
      "Total progress:  25%|██▌       | 5/20 [00:00<00:02,  7.12it/s]\u001b[A\n",
      "Total progress:  30%|███       | 6/20 [00:00<00:02,  5.77it/s]\u001b[A\n",
      "Total progress:  35%|███▌      | 7/20 [00:01<00:02,  6.28it/s]\u001b[A\n",
      "Total progress:  40%|████      | 8/20 [00:01<00:02,  5.92it/s]\u001b[A\n",
      "Total progress:  45%|████▌     | 9/20 [00:01<00:02,  5.44it/s]\u001b[A\n",
      "Total progress:  50%|█████     | 10/20 [00:01<00:02,  4.84it/s]\u001b[A\n",
      "Total progress:  55%|█████▌    | 11/20 [00:01<00:01,  4.54it/s]\u001b[A\n",
      "Total progress:  60%|██████    | 12/20 [00:02<00:01,  4.27it/s]\u001b[A\n",
      "Total progress:  65%|██████▌   | 13/20 [00:02<00:01,  4.40it/s]\u001b[A\n",
      "Total progress:  70%|███████   | 14/20 [00:02<00:01,  4.85it/s]\u001b[A\n",
      "Total progress:  75%|███████▌  | 15/20 [00:02<00:01,  4.97it/s]\u001b[A\n",
      "Total progress:  80%|████████  | 16/20 [00:02<00:00,  5.47it/s]\u001b[A\n",
      "Total progress:  85%|████████▌ | 17/20 [00:03<00:00,  5.69it/s]\u001b[A\n",
      "Total progress:  90%|█████████ | 18/20 [00:03<00:00,  5.86it/s]\u001b[A\n",
      "Total progress:  95%|█████████▌| 19/20 [00:03<00:00,  5.81it/s]\u001b[A\n"
     ]
    },
    {
     "name": "stderr",
     "output_type": "stream",
     "text": [
      "100%|██████████| 20/20 [00:03<00:00,  5.24it/s]\n"
     ]
    },
    {
     "name": "stdout",
     "output_type": "stream",
     "text": [
      "Total progress: 100%|██████████| 20/20 [00:03<00:00,  4.83it/s]\u001b[A\n",
      "Total progress: 100%|██████████| 20/20 [00:03<00:00,  5.01it/s]\u001b[A\n",
      "\n",
      "Total progress:   0%|          | 0/20 [00:00<?, ?it/s]\u001b[A\n",
      "Total progress:  10%|█         | 2/20 [00:00<00:02,  7.91it/s]\u001b[A\n",
      "Total progress:  15%|█▌        | 3/20 [00:00<00:02,  6.79it/s]\u001b[A\n",
      "Total progress:  20%|██        | 4/20 [00:00<00:02,  6.07it/s]\u001b[A\n",
      "Total progress:  25%|██▌       | 5/20 [00:00<00:02,  6.07it/s]\u001b[A\n",
      "Total progress:  30%|███       | 6/20 [00:00<00:02,  6.14it/s]\u001b[A\n",
      "Total progress:  35%|███▌      | 7/20 [00:01<00:01,  6.54it/s]\u001b[A\n",
      "Total progress:  40%|████      | 8/20 [00:01<00:01,  6.34it/s]\u001b[A\n",
      "Total progress:  50%|█████     | 10/20 [00:01<00:01,  5.40it/s]\u001b[A\n",
      "Total progress:  55%|█████▌    | 11/20 [00:01<00:01,  4.96it/s]\u001b[A\n",
      "Total progress:  60%|██████    | 12/20 [00:02<00:01,  4.72it/s]\u001b[A\n",
      "Total progress:  65%|██████▌   | 13/20 [00:02<00:01,  4.92it/s]\u001b[A\n",
      "Total progress:  70%|███████   | 14/20 [00:02<00:01,  4.79it/s]\u001b[A\n",
      "Total progress:  75%|███████▌  | 15/20 [00:02<00:01,  4.39it/s]\u001b[A\n",
      "Total progress:  80%|████████  | 16/20 [00:02<00:00,  5.21it/s]\u001b[A\n",
      "Total progress:  85%|████████▌ | 17/20 [00:03<00:00,  5.66it/s]\u001b[A\n",
      "Total progress:  90%|█████████ | 18/20 [00:03<00:00,  5.68it/s]\u001b[A\n",
      "Total progress:  95%|█████████▌| 19/20 [00:03<00:00,  5.52it/s]\u001b[A\n"
     ]
    },
    {
     "name": "stderr",
     "output_type": "stream",
     "text": [
      "100%|██████████| 20/20 [00:03<00:00,  5.20it/s]\n"
     ]
    },
    {
     "name": "stdout",
     "output_type": "stream",
     "text": [
      "Total progress: 100%|██████████| 20/20 [00:03<00:00,  6.04it/s]\u001b[A\n",
      "Total progress: 100%|██████████| 20/20 [00:03<00:00,  5.23it/s]\u001b[A\n",
      "\n",
      "Total progress:   0%|          | 0/20 [00:00<?, ?it/s]\u001b[A\n",
      "Total progress:  10%|█         | 2/20 [00:00<00:01, 10.33it/s]\u001b[A\n",
      "Total progress:  20%|██        | 4/20 [00:00<00:02,  6.77it/s]\u001b[A\n",
      "Total progress:  25%|██▌       | 5/20 [00:00<00:02,  6.78it/s]\u001b[A\n",
      "Total progress:  30%|███       | 6/20 [00:00<00:02,  6.97it/s]\u001b[A\n",
      "Total progress:  35%|███▌      | 7/20 [00:01<00:01,  6.70it/s]\u001b[A\n",
      "Total progress:  40%|████      | 8/20 [00:01<00:01,  6.25it/s]\u001b[A\n",
      "Total progress:  45%|████▌     | 9/20 [00:01<00:02,  5.46it/s]\u001b[A\n",
      "Total progress:  50%|█████     | 10/20 [00:01<00:02,  4.40it/s]\u001b[A\n",
      "Total progress:  55%|█████▌    | 11/20 [00:01<00:01,  4.56it/s]\u001b[A\n",
      "Total progress:  60%|██████    | 12/20 [00:02<00:01,  4.59it/s]\u001b[A\n",
      "Total progress:  65%|██████▌   | 13/20 [00:02<00:01,  5.15it/s]\u001b[A\n",
      "Total progress:  70%|███████   | 14/20 [00:02<00:01,  5.27it/s]\u001b[A\n",
      "Total progress:  75%|███████▌  | 15/20 [00:02<00:00,  5.44it/s]\u001b[A\n",
      "Total progress:  80%|████████  | 16/20 [00:02<00:00,  4.73it/s]\u001b[A\n",
      "Total progress:  85%|████████▌ | 17/20 [00:03<00:00,  5.32it/s]\u001b[A\n",
      "Total progress:  90%|█████████ | 18/20 [00:03<00:00,  5.32it/s]\u001b[A\n",
      "Total progress:  95%|█████████▌| 19/20 [00:03<00:00,  4.99it/s]\u001b[A\n"
     ]
    },
    {
     "name": "stderr",
     "output_type": "stream",
     "text": [
      "100%|██████████| 20/20 [00:03<00:00,  5.08it/s]\n"
     ]
    },
    {
     "name": "stdout",
     "output_type": "stream",
     "text": [
      "Total progress: 100%|██████████| 20/20 [00:03<00:00,  4.77it/s]\u001b[A\n",
      "Total progress: 100%|██████████| 20/20 [00:04<00:00,  4.98it/s]\u001b[A\n",
      "\n",
      "Total progress:   0%|          | 0/20 [00:00<?, ?it/s]\u001b[A\n",
      "Total progress:  10%|█         | 2/20 [00:00<00:01, 11.12it/s]\u001b[A\n",
      "Total progress:  20%|██        | 4/20 [00:00<00:02,  6.68it/s]\u001b[A\n",
      "Total progress:  25%|██▌       | 5/20 [00:00<00:02,  6.95it/s]\u001b[A\n",
      "Total progress:  30%|███       | 6/20 [00:00<00:01,  7.17it/s]\u001b[A\n",
      "Total progress:  35%|███▌      | 7/20 [00:00<00:01,  7.07it/s]\u001b[A\n",
      "Total progress:  40%|████      | 8/20 [00:01<00:01,  6.22it/s]\u001b[A\n",
      "Total progress:  45%|████▌     | 9/20 [00:01<00:02,  5.42it/s]\u001b[A\n",
      "Total progress:  50%|█████     | 10/20 [00:01<00:02,  4.79it/s]\u001b[A\n",
      "Total progress:  55%|█████▌    | 11/20 [00:01<00:01,  4.65it/s]\u001b[A\n",
      "Total progress:  60%|██████    | 12/20 [00:02<00:01,  4.73it/s]\u001b[A\n",
      "Total progress:  65%|██████▌   | 13/20 [00:02<00:01,  5.02it/s]\u001b[A\n",
      "Total progress:  70%|███████   | 14/20 [00:02<00:01,  4.24it/s]\u001b[A\n",
      "Total progress:  80%|████████  | 16/20 [00:02<00:00,  5.40it/s]\u001b[A\n",
      "Total progress:  85%|████████▌ | 17/20 [00:03<00:00,  5.57it/s]\u001b[A\n",
      "Total progress:  90%|█████████ | 18/20 [00:03<00:00,  5.75it/s]\u001b[A\n",
      "Total progress:  95%|█████████▌| 19/20 [00:03<00:00,  6.16it/s]\u001b[A\n"
     ]
    },
    {
     "name": "stderr",
     "output_type": "stream",
     "text": [
      "100%|██████████| 20/20 [00:03<00:00,  5.29it/s]\n"
     ]
    },
    {
     "name": "stdout",
     "output_type": "stream",
     "text": [
      "Total progress: 100%|██████████| 20/20 [00:03<00:00,  6.59it/s]\u001b[A\n",
      "Total progress: 100%|██████████| 20/20 [00:03<00:00,  5.34it/s]\u001b[A\n",
      "\n",
      "Total progress:   0%|          | 0/20 [00:00<?, ?it/s]\u001b[A\n",
      "Total progress:  10%|█         | 2/20 [00:00<00:01, 11.87it/s]\u001b[A\n",
      "Total progress:  20%|██        | 4/20 [00:00<00:02,  6.23it/s]\u001b[A\n",
      "Total progress:  25%|██▌       | 5/20 [00:00<00:02,  5.95it/s]\u001b[A\n",
      "Total progress:  30%|███       | 6/20 [00:00<00:02,  5.95it/s]\u001b[A\n",
      "Total progress:  35%|███▌      | 7/20 [00:01<00:02,  6.27it/s]\u001b[A\n",
      "Total progress:  40%|████      | 8/20 [00:01<00:01,  6.72it/s]\u001b[A\n",
      "Total progress:  45%|████▌     | 9/20 [00:01<00:01,  5.74it/s]\u001b[A\n",
      "Total progress:  50%|█████     | 10/20 [00:01<00:02,  4.56it/s]\u001b[A\n",
      "Total progress:  55%|█████▌    | 11/20 [00:01<00:01,  4.56it/s]\u001b[A\n",
      "Total progress:  60%|██████    | 12/20 [00:02<00:01,  5.03it/s]\u001b[A\n",
      "Total progress:  65%|██████▌   | 13/20 [00:02<00:01,  5.32it/s]\u001b[A\n",
      "Total progress:  70%|███████   | 14/20 [00:02<00:01,  5.32it/s]\u001b[A\n",
      "Total progress:  75%|███████▌  | 15/20 [00:02<00:00,  5.28it/s]\u001b[A\n",
      "Total progress:  80%|████████  | 16/20 [00:02<00:00,  5.80it/s]\u001b[A\n",
      "Total progress:  85%|████████▌ | 17/20 [00:03<00:00,  5.17it/s]\u001b[A\n",
      "Total progress:  90%|█████████ | 18/20 [00:03<00:00,  5.65it/s]\u001b[A\n",
      "Total progress:  95%|█████████▌| 19/20 [00:03<00:00,  5.73it/s]\u001b[A\n"
     ]
    },
    {
     "name": "stderr",
     "output_type": "stream",
     "text": [
      "100%|██████████| 20/20 [00:03<00:00,  5.17it/s]\n"
     ]
    },
    {
     "name": "stdout",
     "output_type": "stream",
     "text": [
      "Total progress: 100%|██████████| 20/20 [00:03<00:00,  5.00it/s]\u001b[A\n",
      "Total progress: 100%|██████████| 20/20 [00:03<00:00,  5.08it/s]\u001b[A\n",
      "\n",
      "Total progress:   0%|          | 0/20 [00:00<?, ?it/s]\u001b[A\n",
      "Total progress:  10%|█         | 2/20 [00:00<00:01,  9.81it/s]\u001b[A\n",
      "Total progress:  15%|█▌        | 3/20 [00:00<00:03,  5.49it/s]\u001b[A\n",
      "Total progress:  20%|██        | 4/20 [00:00<00:02,  5.90it/s]\u001b[A\n",
      "Total progress:  25%|██▌       | 5/20 [00:00<00:02,  5.83it/s]\u001b[A\n"
     ]
    },
    {
     "name": "stderr",
     "output_type": "stream",
     "text": [
      " 30%|███       | 6/20 [00:01<00:02,  4.72it/s]\n"
     ]
    },
    {
     "name": "stdout",
     "output_type": "stream",
     "text": [
      "Total progress:  30%|███       | 6/20 [00:01<00:02,  5.45it/s]\u001b[A\n"
     ]
    }
   ],
   "source": [
    "%%bash\n",
    "#  DOWNLOAD text-generation-webui, install requirements.txt and execute this service \n",
    "\n",
    "REPOSRC=https://github.com/AUTOMATIC1111/stable-diffusion-webui.git\n",
    "LOCALREPO=$HOME/LLMs/stable-diffusion-webui\n",
    "\n",
    "# We do it this way so that we can abstract if from just git later on\n",
    "LOCALREPO_VC_DIR=$LOCALREPO/.git\n",
    "\n",
    "if [ ! -d $LOCALREPO_VC_DIR ]\n",
    "then\n",
    "    git clone $REPOSRC $LOCALREPO\n",
    "\n",
    "    # Prepare\n",
    "    cd ${LOCALREPO}/models/Stable-diffusion\n",
    "    ln -s /work/u00cjz00/slurm_jobs/github/models/v1-5-pruned-emaonly.safetensors . \n",
    "\n",
    "fi \n",
    "\n",
    "# GET IP and Free Port\n",
    "# IP\n",
    "node_ip=$(cat /etc/hosts |grep \"$(hostname -a)\" | awk '{print $1}')\n",
    "# PORT\n",
    "noed_port_genai=$(python3 -c \"import socket; s = socket.socket(socket.AF_INET, socket.SOCK_STREAM); s.bind(('', 0)); addr = s.getsockname(); s.close(); print(addr[1])\")\n",
    "# PROXY\n",
    "proxy_url=/rstudio/${node_ip}/${noed_port_genai}\n",
    "# URL\n",
    "https_url=https://node01.biobank.org.tw${proxy_url}/\n",
    "echo $https_url\n",
    "\n",
    "# 強制刪除運行中服務\n",
    "ps -ef |grep launch.py | awk '{print $2}' | xargs kill -9\n",
    "\n",
    "# EXPORT PATH for ~/.local\n",
    "export PATH=$PATH:$HOME/.local/bin\n",
    "\n",
    "# pip\n",
    "pip install httpx==0.24.1\n",
    "\n",
    "# 主程式\n",
    "password=\"nchc:nchcorgtw\"\n",
    "cd ${LOCALREPO}\n",
    "python3 launch.py --listen --subpath=${proxy_url} --port  ${noed_port_genai} --server-name $(hostname -s) --gradio-auth ${password}\n"
   ]
  },
  {
   "cell_type": "code",
   "execution_count": null,
   "metadata": {
    "tags": []
   },
   "outputs": [],
   "source": [
    "# 強制刪除服務\n",
    "!ps -ef |grep launch.py | awk '{print $2}' | xargs kill -9"
   ]
  },
  {
   "cell_type": "code",
   "execution_count": null,
   "metadata": {},
   "outputs": [],
   "source": []
  }
 ],
 "metadata": {
  "accelerator": "GPU",
  "colab": {
   "provenance": []
  },
  "kernelspec": {
   "display_name": "Image_S_work-textgendemo06_stable-diffusion-webui_full",
   "language": "python",
   "name": "s_work-textgendemo06_stable-diffusion-webui_full"
  },
  "language_info": {
   "codemirror_mode": {
    "name": "ipython",
    "version": 3
   },
   "file_extension": ".py",
   "mimetype": "text/x-python",
   "name": "python",
   "nbconvert_exporter": "python",
   "pygments_lexer": "ipython3",
   "version": "3.10.12"
  }
 },
 "nbformat": 4,
 "nbformat_minor": 4
}
