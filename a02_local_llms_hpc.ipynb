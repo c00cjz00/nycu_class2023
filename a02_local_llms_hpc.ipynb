{
 "cells": [
  {
   "cell_type": "markdown",
   "metadata": {
    "id": "A6EMFg6fTWei"
   },
   "source": [
    "## 實作案例: 請先切換kernel 於您新安裝的 kernel環境\n",
    "## <span style=\"color:red\">Change to kernel:   Image_XXXXXXXXXXl</span>.\n",
    "\n",
    "https://python.langchain.com.cn/docs/get_started/quickstart"
   ]
  },
  {
   "cell_type": "code",
   "execution_count": 1,
   "metadata": {},
   "outputs": [],
   "source": [
    "# 初始環境設定\n",
    "import os\n",
    "from pathlib import Path\n",
    "HOME = str(Path.home())\n",
    "Add_Binarry_Path=HOME+'/.local/bin:/usr/ubuntu_bin'\n",
    "os.environ['PATH']=os.environ['PATH']+':'+Add_Binarry_Path"
   ]
  },
  {
   "cell_type": "markdown",
   "metadata": {},
   "source": [
    "## 安裝專屬套件 (光碟內沒有的套件)"
   ]
  },
  {
   "cell_type": "code",
   "execution_count": 3,
   "metadata": {
    "tags": []
   },
   "outputs": [],
   "source": [
    "#!pip install xxx"
   ]
  },
  {
   "cell_type": "markdown",
   "metadata": {},
   "source": [
    "## LOAD LIBRARY"
   ]
  },
  {
   "cell_type": "code",
   "execution_count": 4,
   "metadata": {
    "id": "8U9ApDM1S_KW"
   },
   "outputs": [],
   "source": [
    "# LOAD LIBRARY\n",
    "from torch import cuda, bfloat16, float16\n",
    "from langchain.chains import LLMChain, SimpleSequentialChain, RetrievalQA\n",
    "from langchain.llms.huggingface_pipeline import HuggingFacePipeline\n",
    "from langchain.prompts import PromptTemplate\n",
    "from transformers import AutoModelForCausalLM, AutoTokenizer, BitsAndBytesConfig, GenerationConfig, pipeline, TextStreamer"
   ]
  },
  {
   "cell_type": "markdown",
   "metadata": {},
   "source": [
    "## 下載模型"
   ]
  },
  {
   "cell_type": "raw",
   "metadata": {
    "id": "yxxlzaLHUo-T"
   },
   "source": [
    "%%bash\n",
    "# Download model\n",
    "mkdir -p Llama-7B-Chat-GPTQ\n",
    "HF_HUB_ENABLE_HF_TRANSFER=1 huggingface-cli download TheBloke/Llama-2-7B-Chat-GPTQ --local-dir Llama-7B-Chat-GPTQ --local-dir-use-symlinks False"
   ]
  },
  {
   "cell_type": "markdown",
   "metadata": {},
   "source": [
    "## 主程式  (請特別關注 llm)"
   ]
  },
  {
   "cell_type": "code",
   "execution_count": 5,
   "metadata": {
    "id": "KJha7llxV33l"
   },
   "outputs": [],
   "source": [
    "from transformers import AutoModelForCausalLM, AutoTokenizer, pipeline\n",
    "\n",
    "MODEL_ID = \"/work/u00cjz00/slurm_jobs/github/models/Llama-2-7B-Chat-GPTQ\"\n",
    "model = AutoModelForCausalLM.from_pretrained(MODEL_ID, device_map=\"auto\")\n",
    "tokenizer = AutoTokenizer.from_pretrained(MODEL_ID, use_fast=True)\n",
    "\n",
    "pipe = pipeline(\n",
    "    \"text-generation\",\n",
    "    model=model,\n",
    "    tokenizer=tokenizer,\n",
    "    max_new_tokens=512,\n",
    "    do_sample=True,\n",
    "    temperature=0.7,\n",
    "    top_p=0.95,\n",
    "    top_k=40,\n",
    "    repetition_penalty=1.1\n",
    ")\n",
    "\n",
    "llm = HuggingFacePipeline(pipeline=pipe, model_kwargs={\"temperature\": 0})"
   ]
  },
  {
   "cell_type": "code",
   "execution_count": 6,
   "metadata": {
    "colab": {
     "base_uri": "https://localhost:8080/",
     "height": 71
    },
    "id": "xfsGaWT9W8WG",
    "outputId": "7cc3e620-9fe0-4301-f3a3-94858b67769d"
   },
   "outputs": [
    {
     "name": "stderr",
     "output_type": "stream",
     "text": [
      "/opt/conda/lib/python3.10/site-packages/transformers/generation/utils.py:1473: UserWarning: You have modified the pretrained model configuration to control generation. This is a deprecated strategy to control generation and will be removed soon, in a future version. Please use and modify the model generation configuration (see https://huggingface.co/docs/transformers/generation_strategies#default-text-generation-configuration )\n",
      "  warnings.warn(\n"
     ]
    },
    {
     "data": {
      "text/plain": [
       "'\\n\\nChatGPT is a proprietary language model developed by Meta AI that has been fine-tuned on a massive dataset of text from the internet to generate human-like responses to a wide range of prompts. In contrast, open source LLMs are pre-trained language models that have been made publicly available for anyone to use, modify, and improve upon. These models are typically trained on large datasets of text from various sources, such as books, articles, and websites, and can be used for a variety of natural language processing tasks, including text classification, sentiment analysis, and machine translation.'"
      ]
     },
     "execution_count": 6,
     "metadata": {},
     "output_type": "execute_result"
    }
   ],
   "source": [
    "llm(\"Explain the difference between ChatGPT and open source LLMs in a couple of lines.\")"
   ]
  },
  {
   "cell_type": "code",
   "execution_count": 7,
   "metadata": {
    "id": "luTLJ1NlXEVm"
   },
   "outputs": [],
   "source": [
    "### Prompt Template\n",
    "prompt_template = '''\n",
    "<s>[INST] <<SYS>>\n",
    "You are a helpful, respectful and honest assistant. Always answer as helpfully as possible, while being safe.  Your answers should not include any harmful, unethical, racist, sexist, toxic, dangerous, or illegal content. Please ensure that your responses are socially unbiased and positive in nature. If a question does not make any sense, or is not factually coherent, explain why instead of answering something not correct. If you don't know the answer to a question, please don't share false information.\n",
    "<</SYS>>\n",
    "{question} [/INST]\n",
    "\n",
    "'''\n",
    "\n",
    "prompt = PromptTemplate(\n",
    "    input_variables=[\"question\"],\n",
    "    template=prompt_template,\n",
    ")"
   ]
  },
  {
   "cell_type": "code",
   "execution_count": 8,
   "metadata": {
    "colab": {
     "base_uri": "https://localhost:8080/"
    },
    "id": "74pXeVdzVliw",
    "outputId": "5e7bc74c-7bad-44b8-af97-354fbf0c605e"
   },
   "outputs": [
    {
     "name": "stdout",
     "output_type": "stream",
     "text": [
      "\n",
      "<s>[INST] <<SYS>>\n",
      "You are a helpful, respectful and honest assistant. Always answer as helpfully as possible, while being safe.  Your answers should not include any harmful, unethical, racist, sexist, toxic, dangerous, or illegal content. Please ensure that your responses are socially unbiased and positive in nature. If a question does not make any sense, or is not factually coherent, explain why instead of answering something not correct. If you don't know the answer to a question, please don't share false information.\n",
      "<</SYS>>\n",
      "Explain what are Deep Neural Networks in 2-3 sentences [/INST]\n",
      "\n",
      "\n"
     ]
    }
   ],
   "source": [
    "question = \"Explain what are Deep Neural Networks in 2-3 sentences\"\n",
    "print(prompt.format(question=question))"
   ]
  },
  {
   "cell_type": "code",
   "execution_count": 9,
   "metadata": {
    "colab": {
     "base_uri": "https://localhost:8080/",
     "height": 160
    },
    "id": "u9U4w7c6W-D5",
    "outputId": "9ac605df-74d4-4e22-f0b9-a3c0dd09693b"
   },
   "outputs": [
    {
     "data": {
      "text/plain": [
       "'Deep neural networks (DNNs) are a type of machine learning model that use artificial neural networks to analyze and process data. They consist of multiple layers of interconnected nodes or \"neurons\" that learn to recognize patterns in large datasets, allowing them to perform tasks such as image recognition, natural language processing, and speech recognition. DNNs are called \"deep\" because they have many layers, which enables them to learn complex representations of data.'"
      ]
     },
     "execution_count": 9,
     "metadata": {},
     "output_type": "execute_result"
    }
   ],
   "source": [
    "llm(prompt.format(question=question))"
   ]
  },
  {
   "cell_type": "code",
   "execution_count": 10,
   "metadata": {
    "id": "_fL7Xm-hWEco"
   },
   "outputs": [
    {
     "name": "stdout",
     "output_type": "stream",
     "text": [
      "Deep neural networks (DNNs) are a type of artificial neural network (ANN) designed to recognize patterns in complex data sets, such as images, speech, and natural language. DNNs consist of multiple layers of interconnected nodes or \"neurons\" that process inputs and produce outputs, allowing them to learn and represent increasingly abstract representations of the input data. These networks can be trained using large amounts of data and have been shown to achieve state-of-the-art performance in various applications, including computer vision, natural language processing, and speech recognition.\n"
     ]
    }
   ],
   "source": [
    "## Create Chain01\n",
    "from langchain.chains import LLMChain\n",
    "chain01 = LLMChain(llm=llm, prompt=prompt)\n",
    "result01 = chain01.run(question=question)\n",
    "print(result01.strip())"
   ]
  },
  {
   "cell_type": "code",
   "execution_count": 11,
   "metadata": {
    "colab": {
     "base_uri": "https://localhost:8080/"
    },
    "id": "3-X1HOzSWG-u",
    "outputId": "8d0154f0-27b0-4aa1-d975-27f1062f1315"
   },
   "outputs": [
    {
     "name": "stdout",
     "output_type": "stream",
     "text": [
      "<s>[INST] Use the summary Deep neural networks (DNNs) are a type of artificial neural network (ANN) designed to recognize patterns in complex data sets, such as images, speech, and natural language. DNNs consist of multiple layers of interconnected nodes or \"neurons\" that process inputs and produce outputs, allowing them to learn and represent increasingly abstract representations of the input data. These networks can be trained using large amounts of data and have been shown to achieve state-of-the-art performance in various applications, including computer vision, natural language processing, and speech recognition. and give 3 examples of practical applications with 1 sentence explaining each [/INST]\n",
      "Sure! Here is a summary of deep neural networks (DNNs), along with three examples of their practical applications:\n",
      "Deep Neural Networks (DNNs):\n",
      "A Deep Neural Network (DNN) is a type of artificial neural network (ANN) designed to recognize patterns in complex data sets, such as images, speech, and natural language. DNNs consist of multiple layers of interconnected nodes or \"neurons\" that process inputs and produce outputs, allowing them to learn and represent increasingly abstract representations of the input data.\n",
      "Practical Applications:\n",
      "\n",
      "1. Computer Vision: DNNs have revolutionized computer vision tasks such as image classification, object detection, and segmentation. For instance, deep learning algorithms like AlexNet, VGGNet, and ResNet have achieved state-of-the-art performance on ImageNet, a benchmark dataset for image classification.\n",
      "2. Natural Language Processing (NLP): DNNs have enabled breakthroughs in NLP tasks such as language translation, sentiment analysis, and text summarization. For example, Google Translate uses DNNs to translate text from one language to another, while Amazon's Alexa personal assistant leverages DNNs for speech recognition and natural language understanding.\n",
      "3. Speech Recognition: DNNs have improved the accuracy of speech recognition systems, allowing for more effective voice assistants like Siri, Alexa, and Google Assistant. By analyzing audio recordings, these systems can transcribe spoken words and phrases with remarkable precision, enabling applications like voice search and voice control of smart home devices.\n"
     ]
    }
   ],
   "source": [
    "## Create Chain02\n",
    "### Prompt Template for summary\n",
    "prompt_template = \"<s>[INST] Use the summary {summary} and give 3 examples of practical applications with 1 sentence explaining each [/INST]\"\n",
    "\n",
    "prompt02 = PromptTemplate(\n",
    "    input_variables=[\"summary\"],\n",
    "    template=prompt_template,\n",
    ")\n",
    "chain02 = LLMChain(llm=llm, prompt=prompt02)\n",
    "print(prompt02.format(summary=result01))\n",
    "result02 = chain02.run(result01)\n",
    "print(result02.strip())"
   ]
  },
  {
   "cell_type": "code",
   "execution_count": 12,
   "metadata": {
    "colab": {
     "base_uri": "https://localhost:8080/"
    },
    "id": "Td36DOpWWYJR",
    "outputId": "1d106681-6a6a-41cb-97f0-0631e0390fae"
   },
   "outputs": [
    {
     "name": "stdout",
     "output_type": "stream",
     "text": [
      "\n",
      "\n",
      "\u001b[1m> Entering new SimpleSequentialChain chain...\u001b[0m\n",
      "\u001b[36;1m\u001b[1;3mDeep neural networks (DNNs) are a type of artificial neural network (ANN) that are designed to recognize complex patterns in data by learning from large datasets. These networks consist of multiple layers of interconnected nodes or \"neurons,\" which process and transmit information between each other, allowing the network to learn and make predictions about input data. DNNs have been shown to be highly effective at tasks such as image recognition, natural language processing, and speech recognition, due to their ability to learn and adapt to large amounts of data.\u001b[0m\n",
      "\u001b[33;1m\u001b[1;3m  Sure! Here are three practical applications of deep neural networks:\n",
      "\n",
      "1. Image Recognition: Deep neural networks can be used to recognize objects within images by learning patterns within large datasets of labeled images. For example, Google's DeepMind developed a DNN called AlphaGo that was able to defeat a world champion Go player by using a DNN to analyze positions on a Go board and predict the best move.\n",
      "2. Natural Language Processing: Deep neural networks can be used to analyze and generate text by learning patterns within large datasets of written language. For instance, Facebook uses DNNs to automatically translate posts from one language to another, allowing users to communicate across linguistic boundaries.\n",
      "3. Speech Recognition: Deep neural networks can be used to transcribe spoken language into text by learning patterns within large datasets of audio recordings. For example, Amazon Alexa uses a DNN to recognize voice commands and respond accordingly, enabling users to control smart home devices with voice commands.\u001b[0m\n",
      "\n",
      "\u001b[1m> Finished chain.\u001b[0m\n",
      "Sure! Here are three practical applications of deep neural networks:\n",
      "\n",
      "1. Image Recognition: Deep neural networks can be used to recognize objects within images by learning patterns within large datasets of labeled images. For example, Google's DeepMind developed a DNN called AlphaGo that was able to defeat a world champion Go player by using a DNN to analyze positions on a Go board and predict the best move.\n",
      "2. Natural Language Processing: Deep neural networks can be used to analyze and generate text by learning patterns within large datasets of written language. For instance, Facebook uses DNNs to automatically translate posts from one language to another, allowing users to communicate across linguistic boundaries.\n",
      "3. Speech Recognition: Deep neural networks can be used to transcribe spoken language into text by learning patterns within large datasets of audio recordings. For example, Amazon Alexa uses a DNN to recognize voice commands and respond accordingly, enabling users to control smart home devices with voice commands.\n"
     ]
    }
   ],
   "source": [
    "## Chaining Chains\n",
    "## multi_chain\n",
    "multi_chain = SimpleSequentialChain(chains=[chain01, chain02], verbose=True)\n",
    "result_mutiple = multi_chain.run(question)\n",
    "print(result_mutiple.strip())"
   ]
  },
  {
   "cell_type": "code",
   "execution_count": null,
   "metadata": {
    "colab": {
     "base_uri": "https://localhost:8080/"
    },
    "id": "61PI5raXYA23",
    "outputId": "b5d00d5d-86e0-45e7-bffc-ba3a975d39a1"
   },
   "outputs": [],
   "source": []
  },
  {
   "cell_type": "code",
   "execution_count": null,
   "metadata": {
    "id": "n4Xh3hwdYGgl"
   },
   "outputs": [],
   "source": []
  }
 ],
 "metadata": {
  "accelerator": "GPU",
  "colab": {
   "gpuType": "T4",
   "provenance": []
  },
  "kernelspec": {
   "display_name": "Image_S_work-demo01_pytorch_2.1.0-cuda11.8-cudnn8-runtime_textgen",
   "language": "python",
   "name": "s_work-demo01_pytorch_2.1.0-cuda11.8-cudnn8-runtime_textgen"
  },
  "language_info": {
   "codemirror_mode": {
    "name": "ipython",
    "version": 3
   },
   "file_extension": ".py",
   "mimetype": "text/x-python",
   "name": "python",
   "nbconvert_exporter": "python",
   "pygments_lexer": "ipython3",
   "version": "3.10.13"
  }
 },
 "nbformat": 4,
 "nbformat_minor": 4
}
