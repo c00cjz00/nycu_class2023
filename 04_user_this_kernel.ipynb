{
 "cells": [
  {
   "cell_type": "markdown",
   "id": "4d91d821-0a9e-4ed7-b2cb-06cea76dbffc",
   "metadata": {},
   "source": [
    "## 04. 使用此 專用library folder 之 image容器 kernel\n",
    "## <span style=\"color:red\">Change to kernel:   Image_XXXXXXXXXXl</span>."
   ]
  },
  {
   "cell_type": "code",
   "execution_count": null,
   "id": "a7853d6c-fa59-41fd-b482-a41f26166aab",
   "metadata": {
    "tags": []
   },
   "outputs": [],
   "source": [
    "# 初始環境設定\n",
    "import os\n",
    "from pathlib import Path\n",
    "HOME = str(Path.home())\n",
    "Add_Binarry_Path=HOME+'/.local/bin:/usr/ubuntu_bin'\n",
    "os.environ['PATH']=os.environ['PATH']+':'+Add_Binarry_Path"
   ]
  },
  {
   "cell_type": "code",
   "execution_count": 1,
   "id": "eebcb784-5481-441a-9d42-cda66b4fb813",
   "metadata": {
    "tags": []
   },
   "outputs": [
    {
     "name": "stdout",
     "output_type": "stream",
     "text": [
      "python3.10\n"
     ]
    }
   ],
   "source": [
    "!ls ~/.local/lib"
   ]
  },
  {
   "cell_type": "code",
   "execution_count": 2,
   "id": "fb65047a-5d2c-481d-8bb3-4bb8f7806e46",
   "metadata": {
    "tags": []
   },
   "outputs": [
    {
     "name": "stdout",
     "output_type": "stream",
     "text": [
      "accelerate\t\t    jsondiff\t\t      pinecone\n",
      "accelerate-config\t    jsonpatch\t\t      pyrsa-decrypt\n",
      "accelerate-estimate-memory  jupyter\t\t      pyrsa-encrypt\n",
      "accelerate-launch\t    jupyter-kernel\t      pyrsa-keygen\n",
      "chainlit\t\t    jupyter-kernelspec\t      pyrsa-priv2pub\n",
      "chroma\t\t\t    jupyter-migrate\t      pyrsa-sign\n",
      "coloredlogs\t\t    jupyter-run\t\t      pyrsa-verify\n",
      "datasets-cli\t\t    jupyter-troubleshoot      rouge\n",
      "distro\t\t\t    langchain-server\t      tabulate\n",
      "dotenv\t\t\t    langsmith\t\t      transformers-cli\n",
      "filetype\t\t    markdown_py\t\t      undill\n",
      "gdown\t\t\t    nltk\t\t      unstructured-ingest\n",
      "get_gprof\t\t    onnxruntime_test\t      uvicorn\n",
      "get_objgraph\t\t    openai\t\t      watchfiles\n",
      "httpx\t\t\t    opentelemetry-bootstrap   wsdump\n",
      "huggingface-cli\t\t    opentelemetry-instrument\n",
      "humanfriendly\t\t    optimum-cli\n"
     ]
    }
   ],
   "source": [
    "!ls ~/.local/bin"
   ]
  },
  {
   "cell_type": "code",
   "execution_count": null,
   "id": "8e268d99-b621-4f7a-8956-13b9e9050a48",
   "metadata": {},
   "outputs": [],
   "source": []
  }
 ],
 "metadata": {
  "kernelspec": {
   "display_name": "Image_S_work-course2024_pytorch_2.1.0-cuda11.8-cudnn8-devel",
   "language": "python",
   "name": "s_work-course2024_pytorch_2.1.0-cuda11.8-cudnn8-devel"
  },
  "language_info": {
   "codemirror_mode": {
    "name": "ipython",
    "version": 3
   },
   "file_extension": ".py",
   "mimetype": "text/x-python",
   "name": "python",
   "nbconvert_exporter": "python",
   "pygments_lexer": "ipython3",
   "version": "3.10.13"
  }
 },
 "nbformat": 4,
 "nbformat_minor": 5
}
