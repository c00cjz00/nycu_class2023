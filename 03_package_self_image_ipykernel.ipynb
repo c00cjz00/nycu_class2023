{
 "cells": [
  {
   "cell_type": "markdown",
   "id": "8446a09f-16a6-4103-8fea-2bb575d64f25",
   "metadata": {},
   "source": [
    "## 03. 安裝套件於 專用library folder 之 image容器 kernel\n",
    "## <span style=\"color:red\">Change to kernel:   Image_XXXXXXXXXXl</span>.\n",
    "\n",
    "https://python.langchain.com.cn/docs/get_started/quickstart"
   ]
  },
  {
   "cell_type": "markdown",
   "id": "e3c0ade8-71ef-4f04-8205-962e78a47788",
   "metadata": {},
   "source": [
    "### TRY IT\n",
    "1. Lauch  a new notebook tab\n",
    "2. Change to kernel:  Image_S_home_pytorch_2.1.0-cuda11.8-cudnn8-devel\n",
    "3. In first cell add content below\n",
    "\n",
    "```\n",
    "import os\n",
    "from pathlib import Path\n",
    "HOME = str(Path.home())\n",
    "Add_Binarry_Path=HOME+'/.local/bin:/usr/ubuntu_bin'\n",
    "os.environ['PATH']=os.environ['PATH']+':'+Add_Binarry_Path\n",
    "```"
   ]
  },
  {
   "cell_type": "code",
   "execution_count": 1,
   "id": "7f85861f-0081-4292-a324-1ca99e02f62f",
   "metadata": {
    "tags": []
   },
   "outputs": [],
   "source": [
    "# 初始環境設定\n",
    "import os\n",
    "from pathlib import Path\n",
    "HOME = str(Path.home())\n",
    "Add_Binarry_Path=HOME+'/.local/bin:/usr/ubuntu_bin'\n",
    "os.environ['PATH']=os.environ['PATH']+':'+Add_Binarry_Path"
   ]
  },
  {
   "cell_type": "code",
   "execution_count": 2,
   "id": "9572cc89-ca7c-4458-ac51-4d8be647a29f",
   "metadata": {},
   "outputs": [],
   "source": [
    "## 安裝套件\n",
    "!pip install -r requirements.txt -q"
   ]
  },
  {
   "cell_type": "code",
   "execution_count": 3,
   "id": "d9c29c2c-d963-4d79-b550-41010c4f1169",
   "metadata": {},
   "outputs": [
    {
     "name": "stdout",
     "output_type": "stream",
     "text": [
      "25K\t/home/g00cjz00/.local/bin\n",
      "1.7G\t/home/g00cjz00/.local/lib\n"
     ]
    }
   ],
   "source": [
    "# CHECK INSTALL PACKAGE SIZE\n",
    "!du -sh $HOME/.local/b*\n",
    "!du -sh $HOME/.local/l*"
   ]
  },
  {
   "cell_type": "code",
   "execution_count": 8,
   "id": "98891bc7-6115-4925-a2d9-503a842446eb",
   "metadata": {
    "tags": []
   },
   "outputs": [
    {
     "name": "stdout",
     "output_type": "stream",
     "text": [
      "25K\t/work/g00cjz00/libraryFolder/S_work-course2023_pytorch_2.1.0-cuda11.8-cudnn8-devel/local/bin\n",
      "1.7G\t/work/g00cjz00/libraryFolder/S_work-course2023_pytorch_2.1.0-cuda11.8-cudnn8-devel/local/lib\n"
     ]
    }
   ],
   "source": [
    "# CHECK INSTALL PACKAGE DIRECTORY\n",
    "!du -sh ${HOME}/libraryFolder/*/*/*"
   ]
  },
  {
   "cell_type": "code",
   "execution_count": 11,
   "id": "49fed764-67a7-45eb-bf14-354c0697b719",
   "metadata": {
    "tags": []
   },
   "outputs": [
    {
     "name": "stdout",
     "output_type": "stream",
     "text": [
      "ls: cannot access '$/home/g00cjz00/.local/share/jupyter/kernels/': No such file or directory\n"
     ]
    }
   ],
   "source": [
    "# LIST NOTEBOOK KERNEL FOLDER 請將右上方kernel 切換到原生 python ipykerl 選單\n",
    "!ls ${HOME}/.local/share/jupyter/kernels/"
   ]
  }
 ],
 "metadata": {
  "kernelspec": {
   "display_name": "Image_S_work-course2024_pytorch_2.1.0-cuda11.8-cudnn8-devel",
   "language": "python",
   "name": "s_work-course2024_pytorch_2.1.0-cuda11.8-cudnn8-devel"
  },
  "language_info": {
   "codemirror_mode": {
    "name": "ipython",
    "version": 3
   },
   "file_extension": ".py",
   "mimetype": "text/x-python",
   "name": "python",
   "nbconvert_exporter": "python",
   "pygments_lexer": "ipython3",
   "version": "3.10.13"
  }
 },
 "nbformat": 4,
 "nbformat_minor": 5
}
